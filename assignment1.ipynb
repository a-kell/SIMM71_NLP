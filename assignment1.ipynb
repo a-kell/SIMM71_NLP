{
 "cells": [
  {
   "attachments": {},
   "cell_type": "markdown",
   "metadata": {},
   "source": [
    "# Natural Language Processing on a UK Parliamentary Debate Transcript\n",
    "### Analysing the sentiment arising in a debate about Scottish Independence\n",
    "By Yente Meijers\n",
    "<pre style=\"font-size: 18px; font-family: Times; text-align: left;\n",
    "    white-space: pre-line;\">\n",
    "In this lab report, I will analyse the sentiments and the topics that arise in a parliamentary debate surrounding <b>Scottish Independence and the Scottish Economy</b> in the British House of Commons. Scottish independence has been a big political topic in the United Kingdom (UK) ever since the Scottish National Party (SNP) rose to power in the early 2000s with the promise of an independence referendum (Broun, 2013).\n",
    "\n",
    "Understanding the topics that arise when the issue of Scottish independence is debated as well as the sentiment expressed by different Members of Parliament (MPs) some of whom may belong to the SNP and other might belong to the Labour or Conservative parties, is of great importance for comprehending the wider political discussion on this topic (Beasley et al., 2016). The results of the analysis can help researchers and the public understand what stakes are involved in this issue for different parties.\n",
    "\n",
    "The debate analysed in this report took place on the 2<sup>nd</sup> of November 2022 in the House of Commons, which was before the British supreme court ruled that a Scottish Independence Referendum would be unlawful. This ruling makes it especially interesting to look at what preceded this decision in the debates in the parliament. \n",
    "\n",
    "This report uses computational <b>content analysis</b>, which is the \"systematic, objective, quantitative analysis of message characteristics\" (Neuendorf, 2017, p. 2) but then automated with the help of computational methods instead of human analysis to gain a deeper understanding of what is discussed and with what sentiment in the debate about Scottish Indendence. To analyse larger amounts of data, I will use <b>Natural Language Processing (NLP)</b>, which allows researchers scale up how much textual data can be analysed (Kedia & Rasu, 2020).\n",
    "\n",
    "The Hansard Parliamentary Debate Transcripts are a tremendous data source as they contain multitudes of information about the political debates happening in the United Kingdom. They are also free to access <a href=\"https://hansard.parliament.uk/\">online</a> and published very soon after the debates take place. For data-processing purposes, it is also convenient that all of the transcipts come in the same .txt formatting with similar structures of white lines, making it easier to parse the raw text and extract information about the speakers.\n",
    "\n",
    "The transcripts have been used in Natural Language Processing before, most notably in several papers by Abercrombie and Batista-Navarro (2018, 2019, 2020, 2020a). Abercrombie and Batista-Navarro used a BERT-based model to perform NLP on analyse British parliamentary debate transcripts. They have done different types of analysis on the transcripts, including sentiment analysis.\n",
    "\n",
    "\n",
    "<i><b>Important note</b>: In order to run all the code cells in this Jupyter notebook, the user must ensure that it is in the same environment as the additional materials such as the data file and additional Python scripts used for data pre-processing. All the necessary files can be found in this <b><a href=\"https://github.com/a-kell/SIMM71_NLP\">GitHub repository</a></b>. \n",
    "The necessary scripts are:</i> \n",
    " • custom_types.py\n",
    " • parse_raw_files.py\n",
    " • speaker_analyse.py\n",
    "<i>The data is called:</i>\n",
    " • scotdebate.txt\n",
    " <i>For installing the required packages you also need:</i>\n",
    " • requirements.txt\n",
    "</pre>"
   ]
  },
  {
   "cell_type": "code",
   "execution_count": 1,
   "metadata": {},
   "outputs": [
    {
     "name": "stdout",
     "output_type": "stream",
     "text": [
      "Requirement already satisfied: numpy in c:\\users\\yente\\miniconda3\\envs\\simm71\\lib\\site-packages (from -r requirements.txt (line 4)) (1.23.5)\n",
      "Requirement already satisfied: pandas in c:\\users\\yente\\miniconda3\\envs\\simm71\\lib\\site-packages (from -r requirements.txt (line 5)) (1.5.2)\n",
      "Requirement already satisfied: scikit-learn==1.1 in c:\\users\\yente\\miniconda3\\envs\\simm71\\lib\\site-packages (from -r requirements.txt (line 6)) (1.1.0)\n",
      "Requirement already satisfied: sklearn in c:\\users\\yente\\miniconda3\\envs\\simm71\\lib\\site-packages (from -r requirements.txt (line 7)) (0.0.post1)\n",
      "Requirement already satisfied: gensim in c:\\users\\yente\\miniconda3\\envs\\simm71\\lib\\site-packages (from -r requirements.txt (line 8)) (4.2.0)\n",
      "Requirement already satisfied: ipykernel in c:\\users\\yente\\miniconda3\\envs\\simm71\\lib\\site-packages (from -r requirements.txt (line 9)) (6.15.2)\n",
      "Requirement already satisfied: black in c:\\users\\yente\\miniconda3\\envs\\simm71\\lib\\site-packages (from -r requirements.txt (line 12)) (22.10.0)\n",
      "Requirement already satisfied: ipywidgets in c:\\users\\yente\\miniconda3\\envs\\simm71\\lib\\site-packages (from -r requirements.txt (line 13)) (8.0.3)\n",
      "Requirement already satisfied: nbformat in c:\\users\\yente\\miniconda3\\envs\\simm71\\lib\\site-packages (from -r requirements.txt (line 14)) (5.7.0)\n",
      "Requirement already satisfied: nltk in c:\\users\\yente\\miniconda3\\envs\\simm71\\lib\\site-packages (from -r requirements.txt (line 15)) (3.7)\n",
      "Requirement already satisfied: plotly in c:\\users\\yente\\miniconda3\\envs\\simm71\\lib\\site-packages (from -r requirements.txt (line 16)) (5.11.0)\n",
      "Requirement already satisfied: pyLDAvis in c:\\users\\yente\\miniconda3\\envs\\simm71\\lib\\site-packages (from -r requirements.txt (line 17)) (3.3.1)\n",
      "Requirement already satisfied: tensorflow in c:\\users\\yente\\miniconda3\\envs\\simm71\\lib\\site-packages (from -r requirements.txt (line 18)) (2.11.0)\n",
      "Requirement already satisfied: transformers in c:\\users\\yente\\miniconda3\\envs\\simm71\\lib\\site-packages (from -r requirements.txt (line 19)) (4.25.1)\n",
      "Requirement already satisfied: threadpoolctl>=2.0.0 in c:\\users\\yente\\miniconda3\\envs\\simm71\\lib\\site-packages (from scikit-learn==1.1->-r requirements.txt (line 6)) (3.1.0)\n",
      "Requirement already satisfied: joblib>=1.0.0 in c:\\users\\yente\\miniconda3\\envs\\simm71\\lib\\site-packages (from scikit-learn==1.1->-r requirements.txt (line 6)) (1.2.0)\n",
      "Requirement already satisfied: scipy>=1.3.2 in c:\\users\\yente\\miniconda3\\envs\\simm71\\lib\\site-packages (from scikit-learn==1.1->-r requirements.txt (line 6)) (1.9.3)\n",
      "Requirement already satisfied: python-dateutil>=2.8.1 in c:\\users\\yente\\miniconda3\\envs\\simm71\\lib\\site-packages (from pandas->-r requirements.txt (line 5)) (2.8.2)\n",
      "Requirement already satisfied: pytz>=2020.1 in c:\\users\\yente\\miniconda3\\envs\\simm71\\lib\\site-packages (from pandas->-r requirements.txt (line 5)) (2022.6)\n",
      "Requirement already satisfied: Cython==0.29.28 in c:\\users\\yente\\miniconda3\\envs\\simm71\\lib\\site-packages (from gensim->-r requirements.txt (line 8)) (0.29.28)\n",
      "Requirement already satisfied: smart-open>=1.8.1 in c:\\users\\yente\\miniconda3\\envs\\simm71\\lib\\site-packages (from gensim->-r requirements.txt (line 8)) (5.2.1)\n",
      "Requirement already satisfied: nest-asyncio in c:\\users\\yente\\miniconda3\\envs\\simm71\\lib\\site-packages (from ipykernel->-r requirements.txt (line 9)) (1.5.5)\n",
      "Requirement already satisfied: matplotlib-inline>=0.1 in c:\\users\\yente\\miniconda3\\envs\\simm71\\lib\\site-packages (from ipykernel->-r requirements.txt (line 9)) (0.1.6)\n",
      "Requirement already satisfied: traitlets>=5.1.0 in c:\\users\\yente\\miniconda3\\envs\\simm71\\lib\\site-packages (from ipykernel->-r requirements.txt (line 9)) (5.1.1)\n",
      "Requirement already satisfied: debugpy>=1.0 in c:\\users\\yente\\miniconda3\\envs\\simm71\\lib\\site-packages (from ipykernel->-r requirements.txt (line 9)) (1.5.1)\n",
      "Requirement already satisfied: packaging in c:\\users\\yente\\miniconda3\\envs\\simm71\\lib\\site-packages (from ipykernel->-r requirements.txt (line 9)) (21.3)\n",
      "Requirement already satisfied: jupyter-client>=6.1.12 in c:\\users\\yente\\miniconda3\\envs\\simm71\\lib\\site-packages (from ipykernel->-r requirements.txt (line 9)) (7.4.7)\n",
      "Requirement already satisfied: tornado>=6.1 in c:\\users\\yente\\miniconda3\\envs\\simm71\\lib\\site-packages (from ipykernel->-r requirements.txt (line 9)) (6.2)\n",
      "Requirement already satisfied: ipython>=7.23.1 in c:\\users\\yente\\miniconda3\\envs\\simm71\\lib\\site-packages (from ipykernel->-r requirements.txt (line 9)) (8.6.0)\n",
      "Requirement already satisfied: psutil in c:\\users\\yente\\miniconda3\\envs\\simm71\\lib\\site-packages (from ipykernel->-r requirements.txt (line 9)) (5.9.0)\n",
      "Requirement already satisfied: pyzmq>=17 in c:\\users\\yente\\miniconda3\\envs\\simm71\\lib\\site-packages (from ipykernel->-r requirements.txt (line 9)) (23.2.0)\n",
      "Requirement already satisfied: tomli>=1.1.0 in c:\\users\\yente\\miniconda3\\envs\\simm71\\lib\\site-packages (from black->-r requirements.txt (line 12)) (2.0.1)\n",
      "Requirement already satisfied: click>=8.0.0 in c:\\users\\yente\\miniconda3\\envs\\simm71\\lib\\site-packages (from black->-r requirements.txt (line 12)) (8.1.3)\n",
      "Requirement already satisfied: mypy-extensions>=0.4.3 in c:\\users\\yente\\miniconda3\\envs\\simm71\\lib\\site-packages (from black->-r requirements.txt (line 12)) (0.4.3)\n",
      "Requirement already satisfied: pathspec>=0.9.0 in c:\\users\\yente\\miniconda3\\envs\\simm71\\lib\\site-packages (from black->-r requirements.txt (line 12)) (0.10.2)\n",
      "Requirement already satisfied: platformdirs>=2 in c:\\users\\yente\\miniconda3\\envs\\simm71\\lib\\site-packages (from black->-r requirements.txt (line 12)) (2.5.4)\n",
      "Requirement already satisfied: widgetsnbextension~=4.0 in c:\\users\\yente\\miniconda3\\envs\\simm71\\lib\\site-packages (from ipywidgets->-r requirements.txt (line 13)) (4.0.4)\n",
      "Requirement already satisfied: jupyterlab-widgets~=3.0 in c:\\users\\yente\\miniconda3\\envs\\simm71\\lib\\site-packages (from ipywidgets->-r requirements.txt (line 13)) (3.0.4)\n",
      "Requirement already satisfied: jsonschema>=2.6 in c:\\users\\yente\\miniconda3\\envs\\simm71\\lib\\site-packages (from nbformat->-r requirements.txt (line 14)) (4.17.3)\n",
      "Requirement already satisfied: jupyter-core in c:\\users\\yente\\miniconda3\\envs\\simm71\\lib\\site-packages (from nbformat->-r requirements.txt (line 14)) (4.11.2)\n",
      "Requirement already satisfied: fastjsonschema in c:\\users\\yente\\miniconda3\\envs\\simm71\\lib\\site-packages (from nbformat->-r requirements.txt (line 14)) (2.16.2)\n",
      "Requirement already satisfied: tqdm in c:\\users\\yente\\miniconda3\\envs\\simm71\\lib\\site-packages (from nltk->-r requirements.txt (line 15)) (4.64.1)\n",
      "Requirement already satisfied: regex>=2021.8.3 in c:\\users\\yente\\miniconda3\\envs\\simm71\\lib\\site-packages (from nltk->-r requirements.txt (line 15)) (2022.10.31)\n",
      "Requirement already satisfied: tenacity>=6.2.0 in c:\\users\\yente\\miniconda3\\envs\\simm71\\lib\\site-packages (from plotly->-r requirements.txt (line 16)) (8.1.0)\n",
      "Requirement already satisfied: setuptools in c:\\users\\yente\\miniconda3\\envs\\simm71\\lib\\site-packages (from pyLDAvis->-r requirements.txt (line 17)) (65.5.0)\n",
      "Requirement already satisfied: funcy in c:\\users\\yente\\miniconda3\\envs\\simm71\\lib\\site-packages (from pyLDAvis->-r requirements.txt (line 17)) (1.17)\n",
      "Requirement already satisfied: jinja2 in c:\\users\\yente\\miniconda3\\envs\\simm71\\lib\\site-packages (from pyLDAvis->-r requirements.txt (line 17)) (3.1.2)\n",
      "Requirement already satisfied: numexpr in c:\\users\\yente\\miniconda3\\envs\\simm71\\lib\\site-packages (from pyLDAvis->-r requirements.txt (line 17)) (2.8.4)\n",
      "Requirement already satisfied: future in c:\\users\\yente\\miniconda3\\envs\\simm71\\lib\\site-packages (from pyLDAvis->-r requirements.txt (line 17)) (0.18.2)\n",
      "Requirement already satisfied: tensorflow-intel==2.11.0 in c:\\users\\yente\\miniconda3\\envs\\simm71\\lib\\site-packages (from tensorflow->-r requirements.txt (line 18)) (2.11.0)\n",
      "Requirement already satisfied: tensorflow-io-gcs-filesystem>=0.23.1 in c:\\users\\yente\\miniconda3\\envs\\simm71\\lib\\site-packages (from tensorflow-intel==2.11.0->tensorflow->-r requirements.txt (line 18)) (0.28.0)\n",
      "Requirement already satisfied: opt-einsum>=2.3.2 in c:\\users\\yente\\miniconda3\\envs\\simm71\\lib\\site-packages (from tensorflow-intel==2.11.0->tensorflow->-r requirements.txt (line 18)) (3.3.0)\n",
      "Requirement already satisfied: protobuf<3.20,>=3.9.2 in c:\\users\\yente\\miniconda3\\envs\\simm71\\lib\\site-packages (from tensorflow-intel==2.11.0->tensorflow->-r requirements.txt (line 18)) (3.19.6)\n",
      "Requirement already satisfied: six>=1.12.0 in c:\\users\\yente\\miniconda3\\envs\\simm71\\lib\\site-packages (from tensorflow-intel==2.11.0->tensorflow->-r requirements.txt (line 18)) (1.16.0)\n",
      "Requirement already satisfied: flatbuffers>=2.0 in c:\\users\\yente\\miniconda3\\envs\\simm71\\lib\\site-packages (from tensorflow-intel==2.11.0->tensorflow->-r requirements.txt (line 18)) (22.12.6)\n",
      "Requirement already satisfied: astunparse>=1.6.0 in c:\\users\\yente\\miniconda3\\envs\\simm71\\lib\\site-packages (from tensorflow-intel==2.11.0->tensorflow->-r requirements.txt (line 18)) (1.6.3)\n",
      "Requirement already satisfied: gast<=0.4.0,>=0.2.1 in c:\\users\\yente\\miniconda3\\envs\\simm71\\lib\\site-packages (from tensorflow-intel==2.11.0->tensorflow->-r requirements.txt (line 18)) (0.4.0)\n",
      "Requirement already satisfied: grpcio<2.0,>=1.24.3 in c:\\users\\yente\\miniconda3\\envs\\simm71\\lib\\site-packages (from tensorflow-intel==2.11.0->tensorflow->-r requirements.txt (line 18)) (1.51.1)\n",
      "Requirement already satisfied: google-pasta>=0.1.1 in c:\\users\\yente\\miniconda3\\envs\\simm71\\lib\\site-packages (from tensorflow-intel==2.11.0->tensorflow->-r requirements.txt (line 18)) (0.2.0)\n",
      "Requirement already satisfied: tensorflow-estimator<2.12,>=2.11.0 in c:\\users\\yente\\miniconda3\\envs\\simm71\\lib\\site-packages (from tensorflow-intel==2.11.0->tensorflow->-r requirements.txt (line 18)) (2.11.0)\n",
      "Requirement already satisfied: h5py>=2.9.0 in c:\\users\\yente\\miniconda3\\envs\\simm71\\lib\\site-packages (from tensorflow-intel==2.11.0->tensorflow->-r requirements.txt (line 18)) (3.7.0)\n",
      "Requirement already satisfied: tensorboard<2.12,>=2.11 in c:\\users\\yente\\miniconda3\\envs\\simm71\\lib\\site-packages (from tensorflow-intel==2.11.0->tensorflow->-r requirements.txt (line 18)) (2.11.0)\n",
      "Requirement already satisfied: absl-py>=1.0.0 in c:\\users\\yente\\miniconda3\\envs\\simm71\\lib\\site-packages (from tensorflow-intel==2.11.0->tensorflow->-r requirements.txt (line 18)) (1.3.0)\n",
      "Requirement already satisfied: termcolor>=1.1.0 in c:\\users\\yente\\miniconda3\\envs\\simm71\\lib\\site-packages (from tensorflow-intel==2.11.0->tensorflow->-r requirements.txt (line 18)) (2.1.1)\n",
      "Requirement already satisfied: typing-extensions>=3.6.6 in c:\\users\\yente\\miniconda3\\envs\\simm71\\lib\\site-packages (from tensorflow-intel==2.11.0->tensorflow->-r requirements.txt (line 18)) (4.4.0)\n",
      "Requirement already satisfied: libclang>=13.0.0 in c:\\users\\yente\\miniconda3\\envs\\simm71\\lib\\site-packages (from tensorflow-intel==2.11.0->tensorflow->-r requirements.txt (line 18)) (14.0.6)\n",
      "Requirement already satisfied: wrapt>=1.11.0 in c:\\users\\yente\\miniconda3\\envs\\simm71\\lib\\site-packages (from tensorflow-intel==2.11.0->tensorflow->-r requirements.txt (line 18)) (1.14.1)\n",
      "Requirement already satisfied: keras<2.12,>=2.11.0 in c:\\users\\yente\\miniconda3\\envs\\simm71\\lib\\site-packages (from tensorflow-intel==2.11.0->tensorflow->-r requirements.txt (line 18)) (2.11.0)\n",
      "Requirement already satisfied: tokenizers!=0.11.3,<0.14,>=0.11.1 in c:\\users\\yente\\miniconda3\\envs\\simm71\\lib\\site-packages (from transformers->-r requirements.txt (line 19)) (0.13.2)\n",
      "Requirement already satisfied: huggingface-hub<1.0,>=0.10.0 in c:\\users\\yente\\miniconda3\\envs\\simm71\\lib\\site-packages (from transformers->-r requirements.txt (line 19)) (0.11.1)\n",
      "Requirement already satisfied: requests in c:\\users\\yente\\miniconda3\\envs\\simm71\\lib\\site-packages (from transformers->-r requirements.txt (line 19)) (2.28.1)\n",
      "Requirement already satisfied: pyyaml>=5.1 in c:\\users\\yente\\miniconda3\\envs\\simm71\\lib\\site-packages (from transformers->-r requirements.txt (line 19)) (6.0)\n",
      "Requirement already satisfied: filelock in c:\\users\\yente\\miniconda3\\envs\\simm71\\lib\\site-packages (from transformers->-r requirements.txt (line 19)) (3.8.2)\n",
      "Requirement already satisfied: colorama in c:\\users\\yente\\miniconda3\\envs\\simm71\\lib\\site-packages (from click>=8.0.0->black->-r requirements.txt (line 12)) (0.4.5)\n",
      "Requirement already satisfied: backcall in c:\\users\\yente\\miniconda3\\envs\\simm71\\lib\\site-packages (from ipython>=7.23.1->ipykernel->-r requirements.txt (line 9)) (0.2.0)\n",
      "Requirement already satisfied: jedi>=0.16 in c:\\users\\yente\\miniconda3\\envs\\simm71\\lib\\site-packages (from ipython>=7.23.1->ipykernel->-r requirements.txt (line 9)) (0.18.1)\n",
      "Requirement already satisfied: stack-data in c:\\users\\yente\\miniconda3\\envs\\simm71\\lib\\site-packages (from ipython>=7.23.1->ipykernel->-r requirements.txt (line 9)) (0.2.0)\n",
      "Requirement already satisfied: pickleshare in c:\\users\\yente\\miniconda3\\envs\\simm71\\lib\\site-packages (from ipython>=7.23.1->ipykernel->-r requirements.txt (line 9)) (0.7.5)\n",
      "Requirement already satisfied: pygments>=2.4.0 in c:\\users\\yente\\miniconda3\\envs\\simm71\\lib\\site-packages (from ipython>=7.23.1->ipykernel->-r requirements.txt (line 9)) (2.13.0)\n",
      "Requirement already satisfied: prompt-toolkit<3.1.0,>3.0.1 in c:\\users\\yente\\miniconda3\\envs\\simm71\\lib\\site-packages (from ipython>=7.23.1->ipykernel->-r requirements.txt (line 9)) (3.0.20)\n",
      "Requirement already satisfied: decorator in c:\\users\\yente\\miniconda3\\envs\\simm71\\lib\\site-packages (from ipython>=7.23.1->ipykernel->-r requirements.txt (line 9)) (5.1.1)\n",
      "Requirement already satisfied: pyrsistent!=0.17.0,!=0.17.1,!=0.17.2,>=0.14.0 in c:\\users\\yente\\miniconda3\\envs\\simm71\\lib\\site-packages (from jsonschema>=2.6->nbformat->-r requirements.txt (line 14)) (0.19.2)\n",
      "Requirement already satisfied: attrs>=17.4.0 in c:\\users\\yente\\miniconda3\\envs\\simm71\\lib\\site-packages (from jsonschema>=2.6->nbformat->-r requirements.txt (line 14)) (22.1.0)\n",
      "Requirement already satisfied: entrypoints in c:\\users\\yente\\miniconda3\\envs\\simm71\\lib\\site-packages (from jupyter-client>=6.1.12->ipykernel->-r requirements.txt (line 9)) (0.4)\n",
      "Requirement already satisfied: pywin32>=1.0 in c:\\users\\yente\\miniconda3\\envs\\simm71\\lib\\site-packages (from jupyter-core->nbformat->-r requirements.txt (line 14)) (302)\n",
      "Requirement already satisfied: pyparsing!=3.0.5,>=2.0.2 in c:\\users\\yente\\miniconda3\\envs\\simm71\\lib\\site-packages (from packaging->ipykernel->-r requirements.txt (line 9)) (3.0.9)\n",
      "Requirement already satisfied: MarkupSafe>=2.0 in c:\\users\\yente\\miniconda3\\envs\\simm71\\lib\\site-packages (from jinja2->pyLDAvis->-r requirements.txt (line 17)) (2.1.1)\n",
      "Requirement already satisfied: idna<4,>=2.5 in c:\\users\\yente\\miniconda3\\envs\\simm71\\lib\\site-packages (from requests->transformers->-r requirements.txt (line 19)) (3.4)\n",
      "Requirement already satisfied: charset-normalizer<3,>=2 in c:\\users\\yente\\miniconda3\\envs\\simm71\\lib\\site-packages (from requests->transformers->-r requirements.txt (line 19)) (2.1.1)\n",
      "Requirement already satisfied: certifi>=2017.4.17 in c:\\users\\yente\\miniconda3\\envs\\simm71\\lib\\site-packages (from requests->transformers->-r requirements.txt (line 19)) (2022.9.24)\n",
      "Requirement already satisfied: urllib3<1.27,>=1.21.1 in c:\\users\\yente\\miniconda3\\envs\\simm71\\lib\\site-packages (from requests->transformers->-r requirements.txt (line 19)) (1.26.13)\n",
      "Requirement already satisfied: wheel<1.0,>=0.23.0 in c:\\users\\yente\\miniconda3\\envs\\simm71\\lib\\site-packages (from astunparse>=1.6.0->tensorflow-intel==2.11.0->tensorflow->-r requirements.txt (line 18)) (0.37.1)\n",
      "Requirement already satisfied: parso<0.9.0,>=0.8.0 in c:\\users\\yente\\miniconda3\\envs\\simm71\\lib\\site-packages (from jedi>=0.16->ipython>=7.23.1->ipykernel->-r requirements.txt (line 9)) (0.8.3)\n",
      "Requirement already satisfied: wcwidth in c:\\users\\yente\\miniconda3\\envs\\simm71\\lib\\site-packages (from prompt-toolkit<3.1.0,>3.0.1->ipython>=7.23.1->ipykernel->-r requirements.txt (line 9)) (0.2.5)\n",
      "Requirement already satisfied: tensorboard-plugin-wit>=1.6.0 in c:\\users\\yente\\miniconda3\\envs\\simm71\\lib\\site-packages (from tensorboard<2.12,>=2.11->tensorflow-intel==2.11.0->tensorflow->-r requirements.txt (line 18)) (1.8.1)\n",
      "Requirement already satisfied: google-auth-oauthlib<0.5,>=0.4.1 in c:\\users\\yente\\miniconda3\\envs\\simm71\\lib\\site-packages (from tensorboard<2.12,>=2.11->tensorflow-intel==2.11.0->tensorflow->-r requirements.txt (line 18)) (0.4.6)\n",
      "Requirement already satisfied: markdown>=2.6.8 in c:\\users\\yente\\miniconda3\\envs\\simm71\\lib\\site-packages (from tensorboard<2.12,>=2.11->tensorflow-intel==2.11.0->tensorflow->-r requirements.txt (line 18)) (3.4.1)\n",
      "Requirement already satisfied: werkzeug>=1.0.1 in c:\\users\\yente\\miniconda3\\envs\\simm71\\lib\\site-packages (from tensorboard<2.12,>=2.11->tensorflow-intel==2.11.0->tensorflow->-r requirements.txt (line 18)) (2.2.2)\n",
      "Requirement already satisfied: tensorboard-data-server<0.7.0,>=0.6.0 in c:\\users\\yente\\miniconda3\\envs\\simm71\\lib\\site-packages (from tensorboard<2.12,>=2.11->tensorflow-intel==2.11.0->tensorflow->-r requirements.txt (line 18)) (0.6.1)\n",
      "Requirement already satisfied: google-auth<3,>=1.6.3 in c:\\users\\yente\\miniconda3\\envs\\simm71\\lib\\site-packages (from tensorboard<2.12,>=2.11->tensorflow-intel==2.11.0->tensorflow->-r requirements.txt (line 18)) (2.15.0)\n",
      "Requirement already satisfied: executing in c:\\users\\yente\\miniconda3\\envs\\simm71\\lib\\site-packages (from stack-data->ipython>=7.23.1->ipykernel->-r requirements.txt (line 9)) (0.8.3)\n",
      "Requirement already satisfied: asttokens in c:\\users\\yente\\miniconda3\\envs\\simm71\\lib\\site-packages (from stack-data->ipython>=7.23.1->ipykernel->-r requirements.txt (line 9)) (2.0.5)\n",
      "Requirement already satisfied: pure-eval in c:\\users\\yente\\miniconda3\\envs\\simm71\\lib\\site-packages (from stack-data->ipython>=7.23.1->ipykernel->-r requirements.txt (line 9)) (0.2.2)\n",
      "Requirement already satisfied: pyasn1-modules>=0.2.1 in c:\\users\\yente\\miniconda3\\envs\\simm71\\lib\\site-packages (from google-auth<3,>=1.6.3->tensorboard<2.12,>=2.11->tensorflow-intel==2.11.0->tensorflow->-r requirements.txt (line 18)) (0.2.8)\n",
      "Requirement already satisfied: rsa<5,>=3.1.4 in c:\\users\\yente\\miniconda3\\envs\\simm71\\lib\\site-packages (from google-auth<3,>=1.6.3->tensorboard<2.12,>=2.11->tensorflow-intel==2.11.0->tensorflow->-r requirements.txt (line 18)) (4.9)\n",
      "Requirement already satisfied: cachetools<6.0,>=2.0.0 in c:\\users\\yente\\miniconda3\\envs\\simm71\\lib\\site-packages (from google-auth<3,>=1.6.3->tensorboard<2.12,>=2.11->tensorflow-intel==2.11.0->tensorflow->-r requirements.txt (line 18)) (5.2.0)\n",
      "Requirement already satisfied: requests-oauthlib>=0.7.0 in c:\\users\\yente\\miniconda3\\envs\\simm71\\lib\\site-packages (from google-auth-oauthlib<0.5,>=0.4.1->tensorboard<2.12,>=2.11->tensorflow-intel==2.11.0->tensorflow->-r requirements.txt (line 18)) (1.3.1)\n",
      "Requirement already satisfied: pyasn1<0.5.0,>=0.4.6 in c:\\users\\yente\\miniconda3\\envs\\simm71\\lib\\site-packages (from pyasn1-modules>=0.2.1->google-auth<3,>=1.6.3->tensorboard<2.12,>=2.11->tensorflow-intel==2.11.0->tensorflow->-r requirements.txt (line 18)) (0.4.8)\n",
      "Requirement already satisfied: oauthlib>=3.0.0 in c:\\users\\yente\\miniconda3\\envs\\simm71\\lib\\site-packages (from requests-oauthlib>=0.7.0->google-auth-oauthlib<0.5,>=0.4.1->tensorboard<2.12,>=2.11->tensorflow-intel==2.11.0->tensorflow->-r requirements.txt (line 18)) (3.2.2)\n"
     ]
    },
    {
     "name": "stderr",
     "output_type": "stream",
     "text": [
      "[nltk_data] Downloading package punkt to\n",
      "[nltk_data]     C:\\Users\\yente\\AppData\\Roaming\\nltk_data...\n",
      "[nltk_data]   Package punkt is already up-to-date!\n",
      "c:\\Users\\yente\\miniconda3\\envs\\SIMM71\\lib\\site-packages\\past\\builtins\\misc.py:45: DeprecationWarning: the imp module is deprecated in favour of importlib and slated for removal in Python 3.12; see the module's documentation for alternative uses\n",
      "  from imp import reload\n"
     ]
    }
   ],
   "source": [
    "# Install the required packages\n",
    "!pip install -r requirements.txt\n",
    "\n",
    "# Load required packages\n",
    "from collections import defaultdict, Counter\n",
    "from enum import Enum\n",
    "from pathlib import Path\n",
    "from pprint import pp\n",
    "from custom_types import EnhancedNode\n",
    "from parse_raw_file import parse_file\n",
    "from statistics import mean\n",
    "\n",
    "import pyLDAvis\n",
    "import pyLDAvis.sklearn\n",
    "from sklearn.feature_extraction import text \n",
    "from sklearn.feature_extraction.text import CountVectorizer, TfidfVectorizer\n",
    "from sklearn.decomposition import LatentDirichletAllocation\n",
    "\n",
    "from transformers import pipeline\n",
    "from speaker_analyse import speaker_cache\n",
    "from collections import defaultdict, Counter\n",
    "import pandas as pd\n",
    "\n",
    "import plotly.io as pio\n",
    "import plotly.express as px"
   ]
  },
  {
   "attachments": {},
   "cell_type": "markdown",
   "metadata": {},
   "source": [
    "## Data Pre-Processing and Cleaning\n",
    "<pre style=\"font-size: 18px; font-family: Times;  text-align: left;\n",
    "    white-space: pre-line;\">\n",
    "The debate transcripts are only available in a .txt file, with no rows or columns, so the data is basically one big block of text with some white lines. For the purpose of analysis, I want to extract the <b>title</b> of the debate, the <b>time</b> of the debate, the <b>speaker</b> and <b>information about the speaker</b>. So, before I start any NLP, I am going to process the debate text so that it is in the format of speech by speaker, with metadata about each speaker available as well.\n",
    "\n",
    "Due to the extensive nature of the data pre-processing and cleaning required to get the debate transcript in the correct format for NLP, I will call several Python scripts in the notebook that should also be available in the same environment. These scripts are also annoted to explain clearly what happens in each step but I will give a brief overview below.</pre>\n",
    "\n",
    "<h3 style=\"margin-left: 100px; font-family: Times; font-size: 20px\">1. Parsing the text</h3>\n",
    "        <pre style=\"font-size: 18px; font-family: Times; white-space: pre-wrap;\">\n",
    "                In the first step, I want to run through the data to find the lines that contain information that I want to extract. First, I extract the title of the debate, which is always on the first line. Then, I remove the time stamps from the transcripts because this information is irrelevant for my analysis. \n",
    "        </pre>\n",
    "\n",
    "<h3 style=\"margin-left: 100px; font-family: Times; font-size: 20px\">2. Finding the speaker</h3>\n",
    "        <pre style=\"font-size: 18px; font-family: Times; white-space: pre-wrap;\">\n",
    "                After that, I extracted the lines which contain a speaker and saved that information seperately. \n",
    "        </pre>\n",
    "\n",
    "<h3 style=\"margin-left: 100px; font-family: Times; font-size: 20px\">3. Adding the speaker characteristics</h3>\n",
    "        <pre style=\"font-size: 18px; font-family: Times; white-space: pre-wrap;\">\n",
    "                The speaker line contains more information about the speaker besides their name, it also states which region in the UK they represent and which party they belong to. All of this information is also stored.\n",
    "        </pre>\n",
    "\n",
    "<h3 style=\"margin-left: 100px; font-family: Times; font-size: 20px\">4. Creating a corpus</h3>\n",
    "        <pre style=\"font-size: 18px; font-family: Times; white-space: pre-wrap;\">\n",
    "                To analyse the text, I put it in multiple different formats. For the summary statistics, I divide the text by speech per speaker and I also count the number of speakers associated with each party. In this way, I can then also calculate the average length of the speeches in words. For the topic model, I add all the text together with the speaker names removed to get the topics for the entire debate, not just by speaker. For the sentiment analysis, I add all the speeches for one speaker together and I break the speeches up into sentences with the nltk package, which allows handling punctuation, contractions etc. correctly. \n",
    "        </pre>"
   ]
  },
  {
   "cell_type": "code",
   "execution_count": 2,
   "metadata": {},
   "outputs": [
    {
     "name": "stdout",
     "output_type": "stream",
     "text": [
      "len(enhanced_results) = 343\n"
     ]
    }
   ],
   "source": [
    "# Create filepath for the textfile containing the debate text\n",
    "filepath = Path(\"scotdebate.txt\")\n",
    "\n",
    "# Runs all the pre-processing code in the Python scripts\n",
    "title, results = parse_file(filepath)"
   ]
  },
  {
   "attachments": {},
   "cell_type": "markdown",
   "metadata": {},
   "source": [
    "## Summary Statistics\n",
    "<pre style=\"font-size: 18px; font-family: Times;  text-align: left;\n",
    "    white-space: pre-line;\">\n",
    "To get a better understanding of the parliamentary debate, I will first perform some simple descriptive statistics about the speakers to get a general sense of the debate. I will also do some simple <b>topic modelling</b> to show what kind of things tend to come up when Scottish independence is debated in the British parliament. All of this is helpful to then better understand the results of the sentiment analysis. </pre>"
   ]
  },
  {
   "attachments": {},
   "cell_type": "markdown",
   "metadata": {},
   "source": [
    "### Speaker information and average speech length\n",
    "<pre style=\"font-size: 18px; font-family: Times;  text-align: left;\n",
    "    white-space: pre-line;\">\n",
    "To get an idea about the Members of Parliament (MPs) participating in the debate, I will calculate how many speakers there are as well as which party they belong to and how long they tend to speak  on average. \n",
    "</pre>"
   ]
  },
  {
   "cell_type": "code",
   "execution_count": 3,
   "metadata": {},
   "outputs": [
    {
     "name": "stdout",
     "output_type": "stream",
     "text": [
      "number_of_speakers = 57\n",
      "number_of_speeches = 343\n",
      "party = 'SNP' count = 30\n",
      "party = '' count = 9\n",
      "party = 'Lab' count = 6\n",
      "party = 'Con' count = 5\n",
      "party = 'LD' count = 4\n",
      "party = 'Alba' count = 2\n",
      "party = 'DUP' count = 1\n",
      "speaker = 'Ian Blackford' count = 38 frequency = 0.110787\n",
      "speaker = 'Ian Murray' count = 37 frequency = 0.107872\n",
      "speaker = 'Angus Brendan MacNeil' count = 25 frequency = 0.072886\n",
      "speaker = 'Mr Jack' count = 24 frequency = 0.069971\n",
      "speaker = 'Pete Wishart' count = 21 frequency = 0.061224\n",
      "speaker = 'Mr Perkins' count = 18 frequency = 0.052478\n",
      "speaker = 'David Duguid' count = 15 frequency = 0.043732\n",
      "speaker = 'Robin Millar' count = 13 frequency = 0.037901\n",
      "speaker = 'Mr Nigel Evans' count = 11 frequency = 0.032070\n",
      "speaker = 'Martin Docherty-Hughes' count = 10 frequency = 0.029155\n",
      "speaker = 'Steven Bonnar' count = 7 frequency = 0.020408\n",
      "speaker = 'Kirsty Blackman' count = 7 frequency = 0.020408\n",
      "speaker = 'Christine Jardine' count = 6 frequency = 0.017493\n",
      "speaker = 'Neale Hanvey' count = 6 frequency = 0.017493\n",
      "speaker = 'Mr Speaker' count = 5 frequency = 0.014577\n",
      "speaker = 'Kirsten Oswald' count = 5 frequency = 0.014577\n",
      "speaker = 'Jamie Stone' count = 5 frequency = 0.014577\n",
      "speaker = 'Allan Dorans' count = 5 frequency = 0.014577\n",
      "speaker = 'John Lamont' count = 5 frequency = 0.014577\n",
      "speaker = 'Alan Brown' count = 4 frequency = 0.011662\n",
      "speaker = 'Mr Deputy Speaker' count = 4 frequency = 0.011662\n",
      "speaker = 'Stewart Hosie' count = 4 frequency = 0.011662\n",
      "speaker = 'Dame Eleanor Laing' count = 4 frequency = 0.011662\n",
      "speaker = 'Mike Kane' count = 4 frequency = 0.011662\n",
      "speaker = 'Dr Luke Evans' count = 3 frequency = 0.008746\n",
      "speaker = 'Marion Fellows' count = 3 frequency = 0.008746\n",
      "speaker = 'David Linden' count = 3 frequency = 0.008746\n",
      "speaker = 'Tommy Sheppard' count = 3 frequency = 0.008746\n",
      "speaker = 'Deidre Brock' count = 3 frequency = 0.008746\n",
      "speaker = 'Alex Cunningham' count = 2 frequency = 0.005831\n",
      "speaker = 'Mr Toby Perkins' count = 2 frequency = 0.005831\n",
      "speaker = 'Drew Hendry' count = 2 frequency = 0.005831\n",
      "speaker = 'Mhairi Black' count = 2 frequency = 0.005831\n",
      "speaker = 'Dave Doogan' count = 2 frequency = 0.005831\n",
      "speaker = 'Iain Stewart' count = 2 frequency = 0.005831\n",
      "speaker = 'Stephen Flynn' count = 2 frequency = 0.005831\n",
      "speaker = 'Ms Anum Qaisar' count = 2 frequency = 0.005831\n",
      "speaker = 'Amy Callaghan' count = 2 frequency = 0.005831\n",
      "speaker = 'Anne McLaughlin' count = 2 frequency = 0.005831\n",
      "speaker = 'Hannah Bardell' count = 2 frequency = 0.005831\n",
      "speaker = 'Patricia Gibson' count = 2 frequency = 0.005831\n",
      "speaker = 'Owen Thompson' count = 2 frequency = 0.005831\n",
      "speaker = 'Kenny MacAskill' count = 2 frequency = 0.005831\n",
      "speaker = 'Chris Stephens' count = 2 frequency = 0.005831\n",
      "speaker = 'Richard Thomson' count = 2 frequency = 0.005831\n",
      "speaker = 'Madam Deputy Speaker' count = 2 frequency = 0.005831\n",
      "speaker = 'Alun Cairns' count = 1 frequency = 0.002915\n",
      "speaker = 'Dr Evans' count = 1 frequency = 0.002915\n",
      "speaker = 'Carol Monaghan' count = 1 frequency = 0.002915\n",
      "speaker = 'Sarah Owen' count = 1 frequency = 0.002915\n",
      "speaker = 'Sammy Wilson' count = 1 frequency = 0.002915\n",
      "speaker = 'Gavin Newlands' count = 1 frequency = 0.002915\n",
      "speaker = 'Angela Crawley' count = 1 frequency = 0.002915\n",
      "speaker = 'Ronnie Cowan' count = 1 frequency = 0.002915\n",
      "speaker = 'Dame Nia Griffith' count = 1 frequency = 0.002915\n",
      "speaker = 'Mr Alistair Carmichael' count = 1 frequency = 0.002915\n",
      "speaker = 'Daisy Cooper' count = 1 frequency = 0.002915\n",
      "mean(speech_word_counts) = 155\n"
     ]
    }
   ],
   "source": [
    "class GroupBy(Enum):\n",
    "    Speaker = \"Speaker\"\n",
    "    Party = \"Party\"\n",
    "    All = \"All\"\n",
    "\n",
    "\n",
    "def group_text(results: list[EnhancedNode], groupby: GroupBy) -> dict[str, list[str]]:\n",
    "    # Takes a list of result nodes, and what to group the text by, and returns a dictionary.\n",
    "    ## Keys are the groupby value, speaker, party or all for all text. And the values are lists of text\n",
    "\n",
    "    output = defaultdict(list)\n",
    "\n",
    "    if groupby == GroupBy.All:\n",
    "        for result in results:\n",
    "            output[\"All\"].extend(result.text)\n",
    "    elif groupby == GroupBy.Party:\n",
    "        for result in results:\n",
    "            output[result.party].extend(result.text)\n",
    "    elif groupby == GroupBy.Speaker:\n",
    "        for result in results:\n",
    "            output[result.speaker].extend(result.text)\n",
    "\n",
    "    return output\n",
    "\n",
    "\n",
    "def get_speech_length_in_words(result: EnhancedNode) -> int:\n",
    "\n",
    "    raw_text = \"\".join(result.text)\n",
    "    words = raw_text.split(\" \")\n",
    "\n",
    "    return len(words)\n",
    "\n",
    "\n",
    "def print_summary_stats(results: list[EnhancedNode]):\n",
    "\n",
    "    #  Speaker counts\n",
    "    speakers: Counter[str] = Counter()\n",
    "    for result in results:\n",
    "        speakers[result.speaker] += 1\n",
    "\n",
    "    # Party counts\n",
    "    parties: Counter[str] = Counter()\n",
    "    already_seen_speakers = set()\n",
    "    for result in results:\n",
    "\n",
    "        if result.speaker not in already_seen_speakers:\n",
    "            already_seen_speakers.add(result.speaker)\n",
    "            parties[result.party] += 1\n",
    "\n",
    "    # Number of speakers\n",
    "    number_of_speakers = len(speakers.keys())\n",
    "    number_of_speeches = sum(speakers.values())\n",
    "    print(f\"{number_of_speakers = }\")\n",
    "    print(f\"{number_of_speeches = }\")\n",
    "\n",
    "    # Party alignment\n",
    "    for party, count in parties.most_common():\n",
    "        print(f\"{party = } {count = }\")\n",
    "\n",
    "    # Speaker frequency\n",
    "    for speaker, count in speakers.most_common():\n",
    "        print(f\"{speaker = } {count = } frequency = {count / number_of_speeches :2f}\")\n",
    "\n",
    "    # Speech length\n",
    "    speech_word_counts = [get_speech_length_in_words(x) for x in results]\n",
    "\n",
    "    print(f\"{mean(speech_word_counts) = :.0f}\")\n",
    "\n",
    "\n",
    "if __name__ == \"__main__\":\n",
    "    # pp(group_text(results, GroupBy.All))\n",
    "    # pp(group_text(results, GroupBy.Party))\n",
    "    # group_text(results, GroupBy.Speaker)\n",
    "\n",
    "    print_summary_stats(results)"
   ]
  },
  {
   "attachments": {},
   "cell_type": "markdown",
   "metadata": {},
   "source": [
    "|  **Number of Speakers**    | 57 |\n",
    "| ------------------------------------- | ------------------------------------------------------------------------------------------------------------------ |\n",
    "| **Number of Speeches**                      | **343** |\n",
    "| **Average Speech Length**                      | **155 words** |\n",
    "\n",
    "<pre style=\"font-size: 18px; font-family: Times;  text-align: left;\n",
    "    white-space: pre-line;\">\n",
    "There are a total of 57 speakers in the dataset, including 'Mr. Speaker' and 'Madam Deputy Speaker' but excluding 'Hon. Members'. There are many speakers and speeches, which again confirms the need for NLP to analyse parliamentary transcripts due to the large quantities of text and information to process. The output above also shows how often each MP in volved in the debate spoke but because there are so many speakers, this is not a useful metric to include for all the speakers. We can identify which MPs are the top speakers: Ian Blackford and Ian Murray dominated the debate. Blackford belongs to the SNP, so it makes a lot of sense that he was speaking up a lot. Murray belongs to the Labour party and represents south Edinburgh, a prosperous region that has an interst in maintaining good English-Scottish relations and has never elected an MP from the SNP.\n",
    "</pre>\n",
    "\n",
    "| Party   | Number of MPs    |\n",
    "| ------------------------------------- | ------------------------------------------------------------------------------------------------------------------ |\n",
    "| **Scottish National Party**       | 30   |\n",
    "| **Conservative**  | 5    |\n",
    "| **Labour**                | 6 |\n",
    "| **Liberal Democrat**    | 4   |\n",
    "| **Alba Party**                     | 2   |\n",
    "| **Democratic Unionist Party (Northern Ireland)** | 1     |\n",
    "| **Not Specified** | 9    |\n",
    "\n",
    "<pre style=\"font-size: 18px; font-family: Times;  text-align: left;\n",
    "    white-space: pre-line;\">\n",
    "Above you can see how many speakers belong to which party. As you can see, most of the participants of the debate belong to the SNP, which makes considering the fact that Scottish independence is their main mission.The Alba party is also a Scotland-only party that is pro-independence. Labour, Conservative and Liberal Democrat are the major UK-wide parties who generally oppose Scottish independence. The Democratic Unionist Party is a Northern Irish party that is pro-UK and by extension anti-independence. The speakers in the debate that do not have a party affiliation are those who are involved in the debate as e.g. Mr Speaker or Madam Deputy Speaker.\n",
    "</pre>"
   ]
  },
  {
   "attachments": {},
   "cell_type": "markdown",
   "metadata": {},
   "source": [
    "### Topic Modelling\n",
    "<pre style=\"font-size: 18px; font-family: Times;  text-align: left;\n",
    "    white-space: pre-line;\">\n",
    "To get an idea of what topics come up the most in the debate about Scottish independence, topic modelling is a useful technique. Topic modelling groups texts based on the words and the probability of a word belonging to a certain topic. Topic modelling can be done with several different algorithms and I will use <b>latent dirichlet allocation (LDA)</b>, which is used most commonly in scientific research (Egger, 2022). \n",
    "\n",
    "To get better results, it is important to remove stopwords and change all the words to lowercase.  In this way, the topic model has cleaner text to process. It is also important to get the TF-IDF value of the word, which indicates the relative importance of the word in relation to the text. I will run the topic model on the entire text, so not by speaker, to get a more general idea about the debate. I will run the topic model on three dimensions, which means that I will get the output for three topics. \n",
    "</pre>"
   ]
  },
  {
   "cell_type": "code",
   "execution_count": 4,
   "metadata": {},
   "outputs": [
    {
     "name": "stderr",
     "output_type": "stream",
     "text": [
      "c:\\Users\\yente\\miniconda3\\envs\\SIMM71\\lib\\site-packages\\sklearn\\feature_extraction\\text.py:2008: UserWarning: Only (<class 'numpy.float64'>, <class 'numpy.float32'>, <class 'numpy.float16'>) 'dtype' should be used. <class 'numpy.int64'> 'dtype' will be converted to np.float64.\n",
      "  warnings.warn(\n",
      "c:\\Users\\yente\\miniconda3\\envs\\SIMM71\\lib\\site-packages\\sklearn\\utils\\deprecation.py:87: FutureWarning: Function get_feature_names is deprecated; get_feature_names is deprecated in 1.0 and will be removed in 1.2. Please use get_feature_names_out instead.\n",
      "  warnings.warn(msg, category=FutureWarning)\n",
      "c:\\Users\\yente\\miniconda3\\envs\\SIMM71\\lib\\site-packages\\pyLDAvis\\_prepare.py:247: FutureWarning: In a future version of pandas all arguments of DataFrame.drop except for the argument 'labels' will be keyword-only.\n",
      "  by='saliency', ascending=False).head(R).drop('saliency', 1)\n"
     ]
    },
    {
     "data": {
      "text/html": [
       "\n",
       "<link rel=\"stylesheet\" type=\"text/css\" href=\"https://cdn.jsdelivr.net/gh/bmabey/pyLDAvis@3.3.1/pyLDAvis/js/ldavis.v1.0.0.css\">\n",
       "\n",
       "\n",
       "<div id=\"ldavis_el937218082872799044330369343\"></div>\n",
       "<script type=\"text/javascript\">\n",
       "\n",
       "var ldavis_el937218082872799044330369343_data = {\"mdsDat\": {\"x\": [-0.026518126894697167, -0.13455057039321, 0.16106869728790718], \"y\": [-0.14605384888956965, 0.09267926914153028, 0.05337457974803931], \"topics\": [1, 2, 3], \"cluster\": [1, 1, 1], \"Freq\": [36.53176031583153, 33.51174621085475, 29.95649347331371]}, \"tinfo\": {\"Term\": [\"snp\", \"scotland\", \"independent\", \"members\", \"referendum\", \"uk\", \"debate\", \"secretary\", \"voted\", \"government\", \"union\", \"let\", \"better\", \"support\", \"agree\", \"edinburgh\", \"year\", \"2014\", \"fact\", \"come\", \"prime\", \"united\", \"living\", \"crisis\", \"kingdom\", \"scottish\", \"state\", \"south\", \"heard\", \"poverty\", \"independent\", \"voted\", \"better\", \"agree\", \"nation\", \"order\", \"deputy\", \"interruption\", \"successful\", \"potential\", \"important\", \"stay\", \"mr\", \"rest\", \"remain\", \"resources\", \"history\", \"constitutional\", \"market\", \"reason\", \"seven\", \"hope\", \"immigration\", \"recognise\", \"relationship\", \"democratic\", \"understand\", \"try\", \"respond\", \"takes\", \"stand\", \"countries\", \"scotland\", \"european\", \"union\", \"ireland\", \"united\", \"world\", \"kingdom\", \"future\", \"country\", \"look\", \"vote\", \"people\", \"independence\", \"labour\", \"uk\", \"does\", \"point\", \"party\", \"westminster\", \"time\", \"need\", \"energy\", \"government\", \"scottish\", \"support\", \"living\", \"prime\", \"crisis\", \"poverty\", \"billion\", \"cost\", \"budget\", \"tax\", \"sure\", \"thank\", \"children\", \"week\", \"rates\", \"child\", \"high\", \"money\", \"grateful\", \"families\", \"growth\", \"mini\", \"inflation\", \"mortgage\", \"including\", \"local\", \"austerity\", \"intervention\", \"debt\", \"standards\", \"bank\", \"population\", \"year\", \"government\", \"uk\", \"minister\", \"scottish\", \"tory\", \"economic\", \"parliament\", \"people\", \"economy\", \"scotland\", \"years\", \"energy\", \"national\", \"public\", \"new\", \"need\", \"independence\", \"snp\", \"members\", \"debate\", \"secretary\", \"edinburgh\", \"2014\", \"come\", \"south\", \"fact\", \"heard\", \"speak\", \"00\", \"paper\", \"ian\", \"talking\", \"accept\", \"hear\", \"lady\", \"issue\", \"west\", \"chamber\", \"skye\", \"difference\", \"quite\", \"shadow\", \"opinion\", \"mps\", \"lochaber\", \"ross\", \"progress\", \"referendum\", \"ago\", \"let\", \"state\", \"election\", \"motion\", \"question\", \"time\", \"scottish\", \"independence\", \"different\", \"brexit\", \"eu\", \"conservative\", \"people\", \"government\", \"point\", \"scotland\", \"going\", \"like\", \"economic\", \"economy\"], \"Freq\": [140.0, 534.0, 123.0, 88.0, 105.0, 200.0, 64.0, 49.0, 59.0, 247.0, 101.0, 65.0, 50.0, 44.0, 48.0, 37.0, 50.0, 35.0, 35.0, 34.0, 37.0, 82.0, 36.0, 36.0, 80.0, 235.0, 61.0, 29.0, 29.0, 31.0, 122.48015379703317, 59.291174401639026, 50.11385975271593, 47.64318183223244, 31.00435259912728, 30.168370844003423, 29.334551756216577, 25.207152834703276, 21.066418911131155, 22.672377263814163, 21.008168415671204, 21.005191521182486, 35.53556640714638, 20.994535631515348, 19.376047182523592, 15.229134146842378, 15.21378674000371, 14.363326487021904, 13.543877555174, 14.279918469896524, 11.887483689788606, 12.666481839958719, 11.05986475738813, 11.052033936203985, 11.051024591975455, 11.039973089864718, 9.404359294683177, 10.954187876497514, 9.38329745004992, 8.587169088492534, 9.334560808021832, 25.53423692802624, 391.37786861573716, 32.90211992495775, 81.00715672685442, 30.942625522435492, 62.627849607760304, 38.71793509415751, 60.79203439528064, 30.658541345806654, 61.49463795499834, 22.79303579787049, 32.4814420638023, 137.70355801309148, 79.99340423774183, 42.779394834049974, 79.80628595559182, 39.699708184344345, 37.65245527677757, 35.93315736815649, 29.886502718151544, 33.42013113640268, 28.305650834733672, 28.837016345541315, 34.672004076034796, 33.13701638016932, 43.66379733150464, 36.18035104994481, 36.981503103138806, 36.15886125276228, 31.16887495625499, 27.005850737547934, 28.64093695839532, 25.320785632109022, 23.654276806595846, 23.582939518222183, 21.13840789971514, 20.314382761192725, 21.101488756504914, 18.651725987405076, 18.646106962642104, 17.81026361821575, 18.618949342687227, 17.807771368525483, 16.139067150409687, 16.945229241052417, 15.31258023425854, 15.306813876472551, 15.305970418421966, 16.10910962694452, 16.91156479225676, 16.103058231591906, 14.459859063313669, 14.459441509850803, 16.059382196186856, 13.634782246346015, 14.4315150917464, 46.37605021949835, 158.62198356380244, 120.87723075609635, 49.17341586439783, 105.0771196559046, 33.43196945952281, 41.36636044580757, 28.492284426820603, 85.70766806078358, 37.287460971219595, 97.80773240017216, 28.37985184351082, 28.382910428402628, 21.95220777609438, 21.341524249215638, 20.871057310456184, 23.081782693126204, 21.693493664794893, 140.35194604353526, 87.71041878404456, 63.42236787847968, 48.84239440892451, 36.67646622908601, 35.05804001621504, 34.195433002248286, 29.42124126671221, 34.91122957943834, 29.356725267930496, 23.715777544068217, 22.13470843681147, 22.107133607776877, 18.894357368313624, 20.446940351181293, 17.256543198578143, 16.453645759694005, 17.22519271833726, 15.635157457494117, 15.629164371851095, 14.838457884156067, 13.219657874249446, 13.988934915607244, 14.765101765004399, 13.208790976501879, 13.205579685291497, 13.201419365515653, 12.40881450488048, 12.40881450488048, 12.401573137404208, 96.04096700169956, 13.151655663765272, 54.20776423366874, 47.80244189228657, 21.09262480887578, 22.387567460811916, 27.193829336615263, 48.321234361222366, 97.52978089986432, 69.55840538499379, 22.263712392522855, 32.493954829501426, 27.059606843388284, 22.112684283635495, 58.220913944873175, 54.65157166633397, 29.03685057754521, 44.89790469728227, 24.087484927780906, 23.016212378324962, 23.176866547630585, 22.432255090440137], \"Total\": [140.0, 534.0, 123.0, 88.0, 105.0, 200.0, 64.0, 49.0, 59.0, 247.0, 101.0, 65.0, 50.0, 44.0, 48.0, 37.0, 50.0, 35.0, 35.0, 34.0, 37.0, 82.0, 36.0, 36.0, 80.0, 235.0, 61.0, 29.0, 29.0, 31.0, 123.1023890816452, 59.88364993590951, 50.733545865298225, 48.238701834221665, 31.60288513515287, 30.770408616543737, 29.93829397623958, 25.779679969931134, 21.621147422707324, 23.283914183611962, 21.620558759886766, 21.620106831415484, 36.5807506534943, 21.620957486558442, 19.956794980472527, 15.798443281034654, 15.797847728669682, 14.96647889748323, 14.134011064951554, 14.965040750465196, 12.471087121897627, 13.301422166254143, 11.638792896395547, 11.6386445836438, 11.638514449770538, 11.638713258155935, 9.975183129029164, 11.639230996192774, 9.975359228531161, 9.143905295161634, 9.97540250289484, 29.029324047545174, 534.0835057131916, 38.132847666404544, 101.76635697716569, 36.46086998845767, 82.6530349619895, 48.278907418369386, 80.98487508094804, 37.45217031607331, 84.59813263361143, 26.624794877815415, 41.620454797614, 281.63214001874826, 171.2453032875305, 75.29106099979799, 200.99303987700762, 68.7444682741059, 76.6228704097312, 78.5252265813395, 50.53717799257018, 86.06194824339208, 51.66698756322259, 57.51275028167293, 247.94555930617122, 235.74391693593822, 44.271295854347805, 36.751994653736965, 37.58683470857665, 36.75179575096038, 31.738989333237427, 27.561801050830244, 29.232281885953462, 25.890785767541672, 24.219677327294338, 24.217912239634316, 21.71282459993762, 20.877640156280734, 21.711951541421183, 19.206766218350648, 19.206711526294914, 18.371225143076526, 19.20605046266166, 18.371170592796172, 16.70013046352041, 17.534924149742764, 15.864782312293508, 15.864594892123444, 15.864562934618974, 16.69921686591061, 17.534688228106972, 16.69945832849688, 15.028911651538504, 15.029152237042922, 16.698989639321702, 14.193647798594375, 15.028798339544588, 50.10536349665616, 247.94555930617122, 200.99303987700762, 68.93652735335871, 235.74391693593822, 50.04831750342794, 72.75998409497977, 40.850666180717994, 281.63214001874826, 76.92104721627724, 534.0835057131916, 56.54844971824453, 57.51275028167293, 32.27008762941103, 33.17300955808482, 30.615816420849036, 51.66698756322259, 171.2453032875305, 140.96785577503215, 88.3135415460745, 64.011361869788, 49.43027320601489, 37.279881484507165, 35.65956720742707, 34.85122128245853, 29.988273211504037, 35.66417288933641, 29.99024376261408, 24.318833834571244, 22.697619308293458, 22.698469341714794, 19.457369024798474, 21.07948996665002, 17.837766485619138, 17.02747998586056, 17.838697808065408, 16.217690782940682, 16.217927829912508, 15.407256938477303, 13.787100170728637, 14.598354496555286, 15.409347177131346, 13.78739386560557, 13.787467186044372, 13.787626291089543, 12.977064850086528, 12.977064850086528, 12.977282156248247, 105.56057062717355, 13.78903198972492, 65.09078098269137, 61.953786906473596, 24.401311683977745, 26.85008150950568, 37.53449066209988, 86.06194824339208, 235.74391693593822, 171.2453032875305, 30.180727752635306, 61.56671041698895, 46.68805649465317, 31.848202757481843, 281.63214001874826, 247.94555930617122, 76.6228704097312, 534.0835057131916, 48.47716216714818, 39.36941951766916, 72.75998409497977, 76.92104721627724], \"Category\": [\"Default\", \"Default\", \"Default\", \"Default\", \"Default\", \"Default\", \"Default\", \"Default\", \"Default\", \"Default\", \"Default\", \"Default\", \"Default\", \"Default\", \"Default\", \"Default\", \"Default\", \"Default\", \"Default\", \"Default\", \"Default\", \"Default\", \"Default\", \"Default\", \"Default\", \"Default\", \"Default\", \"Default\", \"Default\", \"Default\", \"Topic1\", \"Topic1\", \"Topic1\", \"Topic1\", \"Topic1\", \"Topic1\", \"Topic1\", \"Topic1\", \"Topic1\", \"Topic1\", \"Topic1\", \"Topic1\", \"Topic1\", \"Topic1\", \"Topic1\", \"Topic1\", \"Topic1\", \"Topic1\", \"Topic1\", \"Topic1\", \"Topic1\", \"Topic1\", \"Topic1\", \"Topic1\", \"Topic1\", \"Topic1\", \"Topic1\", \"Topic1\", \"Topic1\", \"Topic1\", \"Topic1\", \"Topic1\", \"Topic1\", \"Topic1\", \"Topic1\", \"Topic1\", \"Topic1\", \"Topic1\", \"Topic1\", \"Topic1\", \"Topic1\", \"Topic1\", \"Topic1\", \"Topic1\", \"Topic1\", \"Topic1\", \"Topic1\", \"Topic1\", \"Topic1\", \"Topic1\", \"Topic1\", \"Topic1\", \"Topic1\", \"Topic1\", \"Topic1\", \"Topic1\", \"Topic2\", \"Topic2\", \"Topic2\", \"Topic2\", \"Topic2\", \"Topic2\", \"Topic2\", \"Topic2\", \"Topic2\", \"Topic2\", \"Topic2\", \"Topic2\", \"Topic2\", \"Topic2\", \"Topic2\", \"Topic2\", \"Topic2\", \"Topic2\", \"Topic2\", \"Topic2\", \"Topic2\", \"Topic2\", \"Topic2\", \"Topic2\", \"Topic2\", \"Topic2\", \"Topic2\", \"Topic2\", \"Topic2\", \"Topic2\", \"Topic2\", \"Topic2\", \"Topic2\", \"Topic2\", \"Topic2\", \"Topic2\", \"Topic2\", \"Topic2\", \"Topic2\", \"Topic2\", \"Topic2\", \"Topic2\", \"Topic2\", \"Topic2\", \"Topic2\", \"Topic2\", \"Topic2\", \"Topic2\", \"Topic2\", \"Topic3\", \"Topic3\", \"Topic3\", \"Topic3\", \"Topic3\", \"Topic3\", \"Topic3\", \"Topic3\", \"Topic3\", \"Topic3\", \"Topic3\", \"Topic3\", \"Topic3\", \"Topic3\", \"Topic3\", \"Topic3\", \"Topic3\", \"Topic3\", \"Topic3\", \"Topic3\", \"Topic3\", \"Topic3\", \"Topic3\", \"Topic3\", \"Topic3\", \"Topic3\", \"Topic3\", \"Topic3\", \"Topic3\", \"Topic3\", \"Topic3\", \"Topic3\", \"Topic3\", \"Topic3\", \"Topic3\", \"Topic3\", \"Topic3\", \"Topic3\", \"Topic3\", \"Topic3\", \"Topic3\", \"Topic3\", \"Topic3\", \"Topic3\", \"Topic3\", \"Topic3\", \"Topic3\", \"Topic3\", \"Topic3\", \"Topic3\", \"Topic3\", \"Topic3\"], \"logprob\": [30.0, 29.0, 28.0, 27.0, 26.0, 25.0, 24.0, 23.0, 22.0, 21.0, 20.0, 19.0, 18.0, 17.0, 16.0, 15.0, 14.0, 13.0, 12.0, 11.0, 10.0, 9.0, 8.0, 7.0, 6.0, 5.0, 4.0, 3.0, 2.0, 1.0, -4.239, -4.9645, -5.1327, -5.1832, -5.6129, -5.6402, -5.6682, -5.8199, -5.9993, -5.9258, -6.0021, -6.0022, -5.4765, -6.0027, -6.0829, -6.3238, -6.3248, -6.3823, -6.4411, -6.3881, -6.5715, -6.508, -6.6437, -6.6444, -6.6445, -6.6455, -6.8058, -6.6533, -6.8081, -6.8967, -6.8133, -5.807, -3.0773, -5.5534, -4.6524, -5.6149, -4.9098, -5.3907, -4.9395, -5.6241, -4.928, -5.9205, -5.5663, -4.1219, -4.665, -5.2909, -4.6674, -5.3656, -5.4186, -5.4653, -5.6496, -5.5378, -5.7039, -5.6853, -5.5011, -5.5463, -5.1842, -5.3722, -5.3503, -5.3728, -5.5213, -5.6646, -5.6059, -5.7291, -5.7972, -5.8002, -5.9096, -5.9494, -5.9114, -6.0348, -6.0351, -6.0809, -6.0365, -6.0811, -6.1795, -6.1307, -6.232, -6.2324, -6.2325, -6.1813, -6.1327, -6.1817, -6.2893, -6.2894, -6.1844, -6.3481, -6.2913, -5.1239, -3.8942, -4.1659, -5.0653, -4.306, -5.4512, -5.2382, -5.6111, -4.5098, -5.342, -4.3777, -5.615, -5.6149, -5.8718, -5.9, -5.9223, -5.8217, -5.8837, -3.9044, -4.3745, -4.6987, -4.96, -5.2464, -5.2915, -5.3165, -5.4668, -5.2957, -5.469, -5.6824, -5.7514, -5.7526, -5.9097, -5.8307, -6.0004, -6.048, -6.0022, -6.099, -6.0994, -6.1513, -6.2668, -6.2103, -6.1563, -6.2677, -6.2679, -6.2682, -6.3301, -6.3301, -6.3307, -4.2838, -6.272, -4.8557, -4.9815, -5.7996, -5.74, -5.5456, -4.9707, -4.2684, -4.6064, -5.7456, -5.3675, -5.5505, -5.7524, -4.7843, -4.8476, -5.48, -5.0442, -5.6669, -5.7124, -5.7054, -5.7381], \"loglift\": [30.0, 29.0, 28.0, 27.0, 26.0, 25.0, 24.0, 23.0, 22.0, 21.0, 20.0, 19.0, 18.0, 17.0, 16.0, 15.0, 14.0, 13.0, 12.0, 11.0, 10.0, 9.0, 8.0, 7.0, 6.0, 5.0, 4.0, 3.0, 2.0, 1.0, 1.0019, 0.997, 0.9947, 0.9946, 0.9879, 0.9872, 0.9866, 0.9845, 0.981, 0.9804, 0.9783, 0.9781, 0.978, 0.9776, 0.9775, 0.9703, 0.9693, 0.9659, 0.9643, 0.9601, 0.9591, 0.9581, 0.956, 0.9553, 0.9552, 0.9542, 0.9481, 0.9463, 0.9458, 0.9442, 0.9406, 0.8787, 0.6961, 0.8594, 0.7788, 0.8429, 0.7295, 0.7863, 0.7202, 0.8068, 0.688, 0.8516, 0.7591, 0.2915, 0.2458, 0.4417, 0.0833, 0.4579, 0.2965, 0.2252, 0.4817, 0.0611, 0.4052, 0.3166, -0.9603, -0.9551, 1.0795, 1.0776, 1.077, 1.077, 1.0751, 1.0729, 1.0728, 1.071, 1.0697, 1.0667, 1.0665, 1.0659, 1.0648, 1.064, 1.0637, 1.0623, 1.0622, 1.0621, 1.0591, 1.0591, 1.0578, 1.0575, 1.0574, 1.0573, 1.0571, 1.0569, 1.0547, 1.0546, 1.0542, 1.0531, 1.0527, 1.0159, 0.6466, 0.5848, 0.7554, 0.2852, 0.6898, 0.5286, 0.733, -0.0964, 0.3692, -0.6043, 0.4039, 0.3871, 0.708, 0.6522, 0.7101, 0.2875, -0.9728, 1.201, 1.1986, 1.1962, 1.1935, 1.1891, 1.1884, 1.1864, 1.1863, 1.1841, 1.1841, 1.1803, 1.1803, 1.179, 1.1761, 1.175, 1.1723, 1.1711, 1.1704, 1.1688, 1.1684, 1.1678, 1.1634, 1.1628, 1.1627, 1.1626, 1.1623, 1.162, 1.1606, 1.1606, 1.16, 1.1109, 1.1581, 1.0225, 0.9461, 1.0597, 1.0237, 0.8832, 0.6282, 0.3228, 0.3045, 0.9012, 0.5664, 0.66, 0.8406, -0.3709, -0.3068, 0.2351, -1.2707, 0.506, 0.6686, 0.0614, -0.0269]}, \"token.table\": {\"Topic\": [3, 3, 3, 3, 1, 2, 2, 1, 2, 1, 2, 3, 2, 3, 2, 2, 3, 1, 3, 1, 2, 1, 3, 1, 2, 3, 2, 3, 2, 1, 1, 3, 1, 3, 1, 2, 3, 1, 2, 3, 1, 2, 3, 3, 2, 3, 1, 2, 1, 3, 1, 3, 3, 2, 1, 2, 1, 2, 3, 1, 2, 3, 2, 2, 3, 3, 2, 1, 1, 3, 1, 1, 2, 1, 2, 3, 1, 2, 1, 2, 1, 3, 3, 1, 3, 1, 2, 3, 3, 1, 3, 1, 2, 3, 2, 2, 3, 1, 2, 1, 3, 2, 1, 2, 3, 2, 2, 1, 3, 3, 1, 3, 1, 2, 3, 1, 2, 2, 3, 3, 1, 3, 1, 2, 3, 1, 2, 3, 1, 2, 3, 1, 2, 3, 2, 1, 2, 2, 3, 1, 2, 3, 1, 3, 3, 2, 1, 1, 1, 2, 3, 1, 1, 1, 1, 1, 3, 1, 2, 3, 1, 2, 3, 3, 1, 3, 3, 3, 3, 3, 1, 2, 1, 2, 3, 1, 1, 2, 2, 1, 3, 2, 2, 1, 2, 3, 1, 2, 1, 1, 2, 1, 1, 3, 1, 3, 1, 2, 1, 2, 3, 1, 2, 3, 1, 2, 1, 2, 1, 2, 3], \"Freq\": [0.9692646484718088, 0.9815037797965844, 0.9530341152131043, 0.942778289997958, 0.9950516530266094, 0.9581149091941931, 0.9863567279291267, 0.9855412064584279, 0.9796166785401957, 0.2761232472038811, 0.19491052743803372, 0.5197614065014232, 0.9655944869522494, 0.9735672001769348, 0.9892375367843728, 0.9579626744348926, 0.9755755680537092, 0.28259051440149796, 0.6907768129814394, 0.9354237623890445, 0.9920539256271651, 0.8956460700709514, 0.10334377731587902, 0.7210561049164845, 0.14184710260652156, 0.13002651072264476, 0.9795439723257404, 0.984200275697222, 0.9315229348395093, 0.945121660445724, 0.9686590699862773, 0.9590121957446315, 0.26506981758587517, 0.7289419983611566, 0.5818649995299603, 0.2181993748237351, 0.20365274983548612, 0.109950546299693, 0.5634965497859267, 0.3161078206116174, 0.22100583150150657, 0.4810126920915143, 0.2860075466490085, 0.9924924255828582, 0.12294421049380896, 0.8606094734566627, 0.5042360147614288, 0.48684856597655196, 0.40695632730344916, 0.5783063598522699, 0.8653956370815012, 0.13112055107295473, 0.9813770281061249, 0.958076347663884, 0.8277223920103707, 0.16020433393749112, 0.288795782882841, 0.22691097226508936, 0.4950784849420132, 0.14116001955405405, 0.6412698031169884, 0.22182288787065638, 0.9797960292774311, 0.9694937859340206, 0.9396575425891696, 0.966981136583874, 0.9797931199369996, 0.9494964287304934, 0.9773391023541186, 0.9764937888459865, 0.9451151934670668, 0.9712977464283622, 0.9581287630716399, 0.46716609719611113, 0.12847067672893056, 0.4087703350465972, 0.9910449416143008, 0.945501609212051, 0.9697560260313342, 0.9315378468251775, 0.850226558220185, 0.13713331584196534, 0.9865769556310896, 0.7532270678818451, 0.24695969438749021, 0.5711169351181725, 0.19922683783192066, 0.2390722053983048, 0.9529843592234514, 0.16899474601364928, 0.8296105713397328, 0.07620127593330625, 0.35560595435542913, 0.5842097821553479, 0.979538671007602, 0.9695068300530202, 0.9247083326334758, 0.8638564205114044, 0.1502358992193747, 0.9905185396887183, 0.996449677585278, 0.945490439435567, 0.11604878149711766, 0.7107987866698456, 0.17407317224567648, 0.9892715858962131, 0.9455035138262547, 0.14897533918412456, 0.8193643655126851, 0.9428744096727834, 0.9841241460844975, 0.027336781835680484, 0.9809230982369308, 0.6817459020454952, 0.30988450092977055, 0.5419321179841896, 0.44515852548701285, 0.6859199738896797, 0.29396570309557707, 0.9428852902843936, 0.974962678391943, 0.9692283505464766, 0.26927345447287054, 0.685423338658216, 0.02447940495207914, 0.45845139921640077, 0.2674299828762338, 0.2801647439655783, 0.49000089262118074, 0.3053628751117503, 0.20594240414513393, 0.4959354797960421, 0.13050933678843213, 0.37847707668645314, 0.9315448703016024, 0.9878064237235598, 0.9767166709223615, 0.984387227253197, 0.9246928482804306, 0.1507249437602328, 0.6330447637929778, 0.21101492126432592, 0.2664216251133897, 0.7193383878061522, 0.9734351382686186, 0.9892347198898533, 0.9355136570252776, 0.9451272371920946, 0.08525910713183667, 0.009473234125759629, 0.9094304760729244, 0.9451378049555863, 0.9520566813755045, 0.9494606356568592, 0.9022231474389941, 0.971279834070971, 0.9247083326334758, 0.7320952544263202, 0.1834919052014818, 0.08425648708231306, 0.13998240306224963, 0.445398555198067, 0.41570531818486256, 0.9912953504379471, 0.9622256570503418, 0.9428903044853295, 0.9429103900760997, 0.9931342094287315, 0.9670446776133507, 0.9868894274807702, 0.9022192334984197, 0.9581418005269153, 0.16141063362431995, 0.06456425344972798, 0.7747710413967358, 0.9713180496169229, 0.9712713016305984, 0.9938719694304778, 0.9910020220786131, 0.9842621625534793, 0.9487895595027258, 0.9909297995870997, 0.9671703422713751, 0.38344472410353286, 0.0464781483761858, 0.5577377805142296, 0.3196910665159547, 0.6593628246891565, 0.945079619400812, 0.39802373280663794, 0.6020108958700399, 0.9022390750710886, 0.795940843378866, 0.1965286033034237, 0.7622224644137079, 0.24197538552816122, 0.7688527229124483, 0.2162398283191261, 0.9852438864889626, 0.967209233123842, 0.9865625354732088, 0.5936223824054938, 0.21766154021534773, 0.17808671472164814, 0.8078061846354273, 0.18641681183894476, 0.05987382967893664, 0.9180653884103618, 0.4067308673287888, 0.49515062109591684, 0.088419753767128], \"Term\": [\"00\", \"2014\", \"accept\", \"ago\", \"agree\", \"austerity\", \"bank\", \"better\", \"billion\", \"brexit\", \"brexit\", \"brexit\", \"budget\", \"chamber\", \"child\", \"children\", \"come\", \"conservative\", \"conservative\", \"constitutional\", \"cost\", \"countries\", \"countries\", \"country\", \"country\", \"country\", \"crisis\", \"debate\", \"debt\", \"democratic\", \"deputy\", \"difference\", \"different\", \"different\", \"does\", \"does\", \"does\", \"economic\", \"economic\", \"economic\", \"economy\", \"economy\", \"economy\", \"edinburgh\", \"election\", \"election\", \"energy\", \"energy\", \"eu\", \"eu\", \"european\", \"european\", \"fact\", \"families\", \"future\", \"future\", \"going\", \"going\", \"going\", \"government\", \"government\", \"government\", \"grateful\", \"growth\", \"hear\", \"heard\", \"high\", \"history\", \"hope\", \"ian\", \"immigration\", \"important\", \"including\", \"independence\", \"independence\", \"independence\", \"independent\", \"inflation\", \"interruption\", \"intervention\", \"ireland\", \"ireland\", \"issue\", \"kingdom\", \"kingdom\", \"labour\", \"labour\", \"labour\", \"lady\", \"let\", \"let\", \"like\", \"like\", \"like\", \"living\", \"local\", \"lochaber\", \"look\", \"look\", \"market\", \"members\", \"mini\", \"minister\", \"minister\", \"minister\", \"money\", \"mortgage\", \"motion\", \"motion\", \"mps\", \"mr\", \"mr\", \"nation\", \"national\", \"national\", \"need\", \"need\", \"new\", \"new\", \"opinion\", \"order\", \"paper\", \"parliament\", \"parliament\", \"parliament\", \"party\", \"party\", \"party\", \"people\", \"people\", \"people\", \"point\", \"point\", \"point\", \"population\", \"potential\", \"poverty\", \"prime\", \"progress\", \"public\", \"public\", \"public\", \"question\", \"question\", \"quite\", \"rates\", \"reason\", \"recognise\", \"referendum\", \"referendum\", \"referendum\", \"relationship\", \"remain\", \"resources\", \"respond\", \"rest\", \"ross\", \"scotland\", \"scotland\", \"scotland\", \"scottish\", \"scottish\", \"scottish\", \"secretary\", \"seven\", \"shadow\", \"skye\", \"snp\", \"south\", \"speak\", \"stand\", \"standards\", \"state\", \"state\", \"state\", \"stay\", \"successful\", \"support\", \"sure\", \"takes\", \"talking\", \"tax\", \"thank\", \"time\", \"time\", \"time\", \"tory\", \"tory\", \"try\", \"uk\", \"uk\", \"understand\", \"union\", \"union\", \"united\", \"united\", \"vote\", \"vote\", \"voted\", \"week\", \"west\", \"westminster\", \"westminster\", \"westminster\", \"world\", \"world\", \"year\", \"year\", \"years\", \"years\", \"years\"]}, \"R\": 30, \"lambda.step\": 0.01, \"plot.opts\": {\"xlab\": \"PC1\", \"ylab\": \"PC2\"}, \"topic.order\": [3, 1, 2]};\n",
       "\n",
       "function LDAvis_load_lib(url, callback){\n",
       "  var s = document.createElement('script');\n",
       "  s.src = url;\n",
       "  s.async = true;\n",
       "  s.onreadystatechange = s.onload = callback;\n",
       "  s.onerror = function(){console.warn(\"failed to load library \" + url);};\n",
       "  document.getElementsByTagName(\"head\")[0].appendChild(s);\n",
       "}\n",
       "\n",
       "if(typeof(LDAvis) !== \"undefined\"){\n",
       "   // already loaded: just create the visualization\n",
       "   !function(LDAvis){\n",
       "       new LDAvis(\"#\" + \"ldavis_el937218082872799044330369343\", ldavis_el937218082872799044330369343_data);\n",
       "   }(LDAvis);\n",
       "}else if(typeof define === \"function\" && define.amd){\n",
       "   // require.js is available: use it to load d3/LDAvis\n",
       "   require.config({paths: {d3: \"https://d3js.org/d3.v5\"}});\n",
       "   require([\"d3\"], function(d3){\n",
       "      window.d3 = d3;\n",
       "      LDAvis_load_lib(\"https://cdn.jsdelivr.net/gh/bmabey/pyLDAvis@3.3.1/pyLDAvis/js/ldavis.v3.0.0.js\", function(){\n",
       "        new LDAvis(\"#\" + \"ldavis_el937218082872799044330369343\", ldavis_el937218082872799044330369343_data);\n",
       "      });\n",
       "    });\n",
       "}else{\n",
       "    // require.js not available: dynamically load d3 & LDAvis\n",
       "    LDAvis_load_lib(\"https://d3js.org/d3.v5.js\", function(){\n",
       "         LDAvis_load_lib(\"https://cdn.jsdelivr.net/gh/bmabey/pyLDAvis@3.3.1/pyLDAvis/js/ldavis.v3.0.0.js\", function(){\n",
       "                 new LDAvis(\"#\" + \"ldavis_el937218082872799044330369343\", ldavis_el937218082872799044330369343_data);\n",
       "            })\n",
       "         });\n",
       "}\n",
       "</script>"
      ],
      "text/plain": [
       "PreparedData(topic_coordinates=              x         y  topics  cluster       Freq\n",
       "topic                                                \n",
       "2     -0.026518 -0.146054       1        1  36.531760\n",
       "0     -0.134551  0.092679       2        1  33.511746\n",
       "1      0.161069  0.053375       3        1  29.956493, topic_info=             Term        Freq       Total Category  logprob  loglift\n",
       "4095          snp  140.000000  140.000000  Default  30.0000  30.0000\n",
       "3885     scotland  534.000000  534.000000  Default  29.0000  29.0000\n",
       "2329  independent  123.000000  123.000000  Default  28.0000  28.0000\n",
       "2807      members   88.000000   88.000000  Default  27.0000  27.0000\n",
       "3598   referendum  105.000000  105.000000  Default  26.0000  26.0000\n",
       "...           ...         ...         ...      ...      ...      ...\n",
       "3885     scotland   44.897905  534.083506   Topic3  -5.0442  -1.2707\n",
       "2020        going   24.087485   48.477162   Topic3  -5.6669   0.5060\n",
       "2632         like   23.016212   39.369420   Topic3  -5.7124   0.6686\n",
       "1511     economic   23.176867   72.759984   Topic3  -5.7054   0.0614\n",
       "1517      economy   22.432255   76.921047   Topic3  -5.7381  -0.0269\n",
       "\n",
       "[187 rows x 6 columns], token_table=      Topic      Freq    Term\n",
       "term                         \n",
       "0         3  0.969265      00\n",
       "58        3  0.981504    2014\n",
       "181       3  0.953034  accept\n",
       "268       3  0.942778     ago\n",
       "269       1  0.995052   agree\n",
       "...     ...       ...     ...\n",
       "4874      1  0.059874    year\n",
       "4874      2  0.918065    year\n",
       "4875      1  0.406731   years\n",
       "4875      2  0.495151   years\n",
       "4875      3  0.088420   years\n",
       "\n",
       "[211 rows x 3 columns], R=30, lambda_step=0.01, plot_opts={'xlab': 'PC1', 'ylab': 'PC2'}, topic_order=[3, 1, 2])"
      ]
     },
     "execution_count": 4,
     "metadata": {},
     "output_type": "execute_result"
    }
   ],
   "source": [
    "# Save the corpus to be used for the topic model\n",
    "debate_corpus = group_text(results, GroupBy.All)['All']\n",
    "\n",
    "# Pre-processing\n",
    "## Adding my own stop words\n",
    "my_additional_stop_words = [\"hon\", \"way\", \"right\", \"member\", \"gentleman\", \"speaker\", \n",
    "                            \"say\", \"friend\", \"just\", \"said\", \"did\", \"let\" \"think\", \"want\", \"make\"]\n",
    "stop_words = list(text.ENGLISH_STOP_WORDS.union(my_additional_stop_words))\n",
    "\n",
    "## Make everything lowercase and remove stopwords\n",
    "tf_vectorizer = CountVectorizer(strip_accents = 'unicode',\n",
    "                                stop_words = stop_words,\n",
    "                                lowercase = True)\n",
    "\n",
    "## Get TF values \n",
    "dtm_tf = tf_vectorizer.fit_transform(debate_corpus)\n",
    "\n",
    "## Get TF-IDF values \n",
    "tfidf_vectorizer = TfidfVectorizer(**tf_vectorizer.get_params())\n",
    "dtm_tfidf = tfidf_vectorizer.fit_transform(debate_corpus)\n",
    "\n",
    "# Creating the LDA topic model\n",
    "## for TF DTM\n",
    "lda_tf = LatentDirichletAllocation(n_components=3, random_state=6, max_iter=100)\n",
    "lda_tf.fit(dtm_tf)\n",
    "## for TFIDF DTM\n",
    "lda_tfidf = LatentDirichletAllocation(n_components=3, random_state=6, max_iter=100)\n",
    "lda_tfidf.fit(dtm_tfidf)\n",
    "\n",
    "# Visualise the model\n",
    "pyLDAvis.enable_notebook()\n",
    "pyLDAvis.sklearn.prepare(lda_tf, dtm_tf, tf_vectorizer)"
   ]
  },
  {
   "attachments": {},
   "cell_type": "markdown",
   "metadata": {},
   "source": [
    "### Interpreting the topics\n",
    "<pre style=\"font-size: 18px; font-family: Times;  text-align: left;\n",
    "    white-space: pre-line;\">\n",
    "Based on the results from the LDA topic model, we can infer three different topics that appear to be the most prevalent in the debate about Scottish independence. The first topic includes words mostly to do with Scotland, people and independent, which indicates it relates to the matter of Scottish <b>identity</b>. The second topic contains words such as economy, poverty and energy, which means that this topic mostly concerns the question of the Scottish <b>economy</b>. The third topic again contains Scottish, SNP, referendum and independence, which means that it more directly relates to the matter of <b>independence</b> from the UK.\n",
    "\n",
    "In the graph above, you can see that the topics do not overlap, which is good. The topics are similar in size, all containing about a third of the total tokens of the debate. \n",
    "\n",
    "As the topic model is just meant as exploratory analysis, I did not test the cohesion of my topics and the number of topics is based on the type of words that were included in the topics. I reran the topic model again after adding some of my own stop words that appeared to be cluttering the topics.\n",
    "</pre>"
   ]
  },
  {
   "attachments": {},
   "cell_type": "markdown",
   "metadata": {},
   "source": [
    "## Sentiment Analysis\n",
    "<pre style=\"font-size: 18px; font-family: Times;  text-align: left;\n",
    "    white-space: pre-line;\">\n",
    "To further analyse the debate text, I will use sentiment analysis. Sentiment analysis is \"a set of algorithms and techniques used to detect the sentiment (positive, negative, or neutral) of a given text\" (Kedia & Rasu, 2020, p. 14). At this time, the most sophisticated way to do sentiment analysis by using transformer based model, which work better than a model such as Naive Bayes, which does not look at word sequences. Using Naive Bayes would also involve manually labelling, which defeats part of the purpose of automating content analysis. \n",
    "Huggingface's (2022) transformers is a pre-trained machine learning and Bidirectional Encoder Representations from Transformers(BERT)-based (Devlin et al., 2019) sentiment analysis tool, trained on massive amounts of language data. Packages like TextBlob, which is trained on PatternAnalyzer (based on the pattern library) and NaiveBayesAnalyzer (an NLTK classifier trained on a movie reviews corpus), or Vader, which is trained specifically for social media use, are thus far inferior to a model that is BERT-based and trained on a lot more data.\n",
    "\n",
    "I will run the sentiment analysis per party to get an understanding of how different parties in the debate talk about Scottish independence. I chose to use DistilBERT, which is one of the pre-trained machine learning models included in Huggingface's transformers package. DistilBERT is a distilled version of BERT: smaller, faster, cheaper and lighter, reducing the size of the model to 40% but still getting 97% of the same results as the complete BERT (Huggingface, 2022).\n",
    "</pre>"
   ]
  },
  {
   "cell_type": "code",
   "execution_count": 5,
   "metadata": {},
   "outputs": [
    {
     "name": "stderr",
     "output_type": "stream",
     "text": [
      "No model was supplied, defaulted to distilbert-base-uncased-finetuned-sst-2-english and revision af0f99b (https://huggingface.co/distilbert-base-uncased-finetuned-sst-2-english).\n",
      "Using a pipeline without specifying a model name and revision in production is not recommended.\n"
     ]
    }
   ],
   "source": [
    "# Defining the NLP method to be used\n",
    "classifier = pipeline(\"sentiment-analysis\")\n",
    "## The default model is DistilBERT, which is what I want to use"
   ]
  },
  {
   "cell_type": "code",
   "execution_count": 6,
   "metadata": {},
   "outputs": [],
   "source": [
    "speaker_corpus = group_text(results, GroupBy.Speaker)\n",
    "\n",
    "party_sentiments = defaultdict(list)\n",
    "\n",
    "for speaker, sentences in speaker_corpus.items():\n",
    "\n",
    "    # 1 string for all text by a speaker\n",
    "    speaker_info = speaker_cache[speaker]\n",
    "    sentiments = classifier(sentences)\n",
    "\n",
    "    sentiment_labels: list[str] = [sentiment[\"label\"] for sentiment in sentiments] # type: ignore\n",
    "    party_sentiments[speaker_info.party].extend(sentiment_labels) \n",
    "\n",
    "# Rename the no party affiliation\n",
    "party_sentiments[\"No Party\"] = party_sentiments[\"\"]\n",
    "del party_sentiments[\"\"]"
   ]
  },
  {
   "cell_type": "code",
   "execution_count": 7,
   "metadata": {},
   "outputs": [
    {
     "name": "stdout",
     "output_type": "stream",
     "text": [
      "[('SNP', 964), ('No Party', 267), ('Lab', 167), ('Con', 115), ('LD', 46), ('Alba', 31), ('DUP', 3)]\n",
      "[('SNP', 832), ('Lab', 220), ('No Party', 169), ('Con', 91), ('LD', 53), ('Alba', 50), ('DUP', 2)]\n",
      "dict_items([('SNP', 0.5367483296213809), ('Lab', 0.4315245478036176), ('LD', 0.46464646464646464), ('Con', 0.558252427184466), ('Alba', 0.38271604938271603), ('DUP', 0.6), ('No Party', 0.6123853211009175)])\n"
     ]
    },
    {
     "data": {
      "text/html": [
       "<div>\n",
       "<style scoped>\n",
       "    .dataframe tbody tr th:only-of-type {\n",
       "        vertical-align: middle;\n",
       "    }\n",
       "\n",
       "    .dataframe tbody tr th {\n",
       "        vertical-align: top;\n",
       "    }\n",
       "\n",
       "    .dataframe thead th {\n",
       "        text-align: right;\n",
       "    }\n",
       "</style>\n",
       "<table border=\"1\" class=\"dataframe\">\n",
       "  <thead>\n",
       "    <tr style=\"text-align: right;\">\n",
       "      <th></th>\n",
       "      <th>Party</th>\n",
       "      <th>Count</th>\n",
       "      <th>Label</th>\n",
       "    </tr>\n",
       "  </thead>\n",
       "  <tbody>\n",
       "    <tr>\n",
       "      <th>0</th>\n",
       "      <td>SNP</td>\n",
       "      <td>964</td>\n",
       "      <td>Positive</td>\n",
       "    </tr>\n",
       "    <tr>\n",
       "      <th>1</th>\n",
       "      <td>Lab</td>\n",
       "      <td>167</td>\n",
       "      <td>Positive</td>\n",
       "    </tr>\n",
       "    <tr>\n",
       "      <th>2</th>\n",
       "      <td>LD</td>\n",
       "      <td>46</td>\n",
       "      <td>Positive</td>\n",
       "    </tr>\n",
       "    <tr>\n",
       "      <th>3</th>\n",
       "      <td>Con</td>\n",
       "      <td>115</td>\n",
       "      <td>Positive</td>\n",
       "    </tr>\n",
       "    <tr>\n",
       "      <th>4</th>\n",
       "      <td>Alba</td>\n",
       "      <td>31</td>\n",
       "      <td>Positive</td>\n",
       "    </tr>\n",
       "  </tbody>\n",
       "</table>\n",
       "</div>"
      ],
      "text/plain": [
       "  Party  Count     Label\n",
       "0   SNP    964  Positive\n",
       "1   Lab    167  Positive\n",
       "2    LD     46  Positive\n",
       "3   Con    115  Positive\n",
       "4  Alba     31  Positive"
      ]
     },
     "execution_count": 7,
     "metadata": {},
     "output_type": "execute_result"
    }
   ],
   "source": [
    "# Get counts per sentiment type by party\n",
    "party_positive_counts = Counter()\n",
    "party_negative_counts = Counter() \n",
    "\n",
    "\n",
    "for party, labels in party_sentiments.items():\n",
    "\n",
    "    for label in labels:\n",
    "        if label == \"POSITIVE\":\n",
    "            party_positive_counts[party] += 1\n",
    "        elif label == \"NEGATIVE\":\n",
    "            party_negative_counts[party] += 1\n",
    "        else:\n",
    "            raise ValueError(\"Unknown sentiment label\")\n",
    "\n",
    "\n",
    "print(party_positive_counts.most_common())\n",
    "print(party_negative_counts.most_common())\n",
    "\n",
    "\n",
    "party_positive_portion = {}\n",
    "\n",
    "for party in party_sentiments.keys():\n",
    "    party_positive_portion[party] = party_positive_counts[party] / (party_positive_counts[party] + party_negative_counts[party])\n",
    "\n",
    "print(party_positive_portion.items())\n",
    "\n",
    "df_positive = pd.DataFrame(party_positive_counts.items())\n",
    "df_positive.columns = [\"Party\", \"Count\"]\n",
    "df_positive[\"Label\"] = \"Positive\"\n",
    "\n",
    "df_negative = pd.DataFrame(party_negative_counts.items())\n",
    "df_negative.columns = [\"Party\", \"Count\"]\n",
    "df_negative[\"Label\"] = \"Negative\"\n",
    "\n",
    "graph_data = pd.concat((df_positive, df_negative))\n",
    "graph_data.head()"
   ]
  },
  {
   "attachments": {},
   "cell_type": "markdown",
   "metadata": {},
   "source": [
    "## Sentiment visualisation\n",
    "<pre style=\"font-size: 18px; font-family: Times;  text-align: left;\n",
    "    white-space: pre-line;\">\n",
    "Now, to get a better sense of the sentiment per party, I will visualise the average sentiment of speeches per party.\n",
    "</pre>"
   ]
  },
  {
   "cell_type": "code",
   "execution_count": 8,
   "metadata": {},
   "outputs": [
    {
     "name": "stderr",
     "output_type": "stream",
     "text": [
      "c:\\Users\\yente\\miniconda3\\envs\\SIMM71\\lib\\site-packages\\plotly\\io\\_renderers.py:395: DeprecationWarning:\n",
      "\n",
      "distutils Version classes are deprecated. Use packaging.version instead.\n",
      "\n",
      "c:\\Users\\yente\\miniconda3\\envs\\SIMM71\\lib\\site-packages\\plotly\\io\\_renderers.py:395: DeprecationWarning:\n",
      "\n",
      "distutils Version classes are deprecated. Use packaging.version instead.\n",
      "\n"
     ]
    },
    {
     "data": {
      "application/vnd.plotly.v1+json": {
       "config": {
        "plotlyServerURL": "https://plot.ly"
       },
       "data": [
        {
         "alignmentgroup": "True",
         "hovertemplate": "Label=Positive<br>Party=%{x}<br>Count=%{y}<extra></extra>",
         "legendgroup": "Positive",
         "marker": {
          "color": "#636efa",
          "pattern": {
           "shape": ""
          }
         },
         "name": "Positive",
         "offsetgroup": "Positive",
         "orientation": "v",
         "showlegend": true,
         "textposition": "auto",
         "type": "bar",
         "x": [
          "SNP",
          "Lab",
          "LD",
          "Con",
          "Alba",
          "DUP",
          "No Party"
         ],
         "xaxis": "x",
         "y": [
          964,
          167,
          46,
          115,
          31,
          3,
          267
         ],
         "yaxis": "y"
        },
        {
         "alignmentgroup": "True",
         "hovertemplate": "Label=Negative<br>Party=%{x}<br>Count=%{y}<extra></extra>",
         "legendgroup": "Negative",
         "marker": {
          "color": "#EF553B",
          "pattern": {
           "shape": ""
          }
         },
         "name": "Negative",
         "offsetgroup": "Negative",
         "orientation": "v",
         "showlegend": true,
         "textposition": "auto",
         "type": "bar",
         "x": [
          "SNP",
          "Lab",
          "LD",
          "Con",
          "Alba",
          "DUP",
          "No Party"
         ],
         "xaxis": "x",
         "y": [
          832,
          220,
          53,
          91,
          50,
          2,
          169
         ],
         "yaxis": "y"
        }
       ],
       "layout": {
        "barmode": "relative",
        "font": {
         "size": 16
        },
        "legend": {
         "title": {
          "text": "Label"
         },
         "tracegroupgap": 0
        },
        "template": {
         "data": {
          "bar": [
           {
            "error_x": {
             "color": "#2a3f5f"
            },
            "error_y": {
             "color": "#2a3f5f"
            },
            "marker": {
             "line": {
              "color": "white",
              "width": 0.5
             },
             "pattern": {
              "fillmode": "overlay",
              "size": 10,
              "solidity": 0.2
             }
            },
            "type": "bar"
           }
          ],
          "barpolar": [
           {
            "marker": {
             "line": {
              "color": "white",
              "width": 0.5
             },
             "pattern": {
              "fillmode": "overlay",
              "size": 10,
              "solidity": 0.2
             }
            },
            "type": "barpolar"
           }
          ],
          "carpet": [
           {
            "aaxis": {
             "endlinecolor": "#2a3f5f",
             "gridcolor": "#C8D4E3",
             "linecolor": "#C8D4E3",
             "minorgridcolor": "#C8D4E3",
             "startlinecolor": "#2a3f5f"
            },
            "baxis": {
             "endlinecolor": "#2a3f5f",
             "gridcolor": "#C8D4E3",
             "linecolor": "#C8D4E3",
             "minorgridcolor": "#C8D4E3",
             "startlinecolor": "#2a3f5f"
            },
            "type": "carpet"
           }
          ],
          "choropleth": [
           {
            "colorbar": {
             "outlinewidth": 0,
             "ticks": ""
            },
            "type": "choropleth"
           }
          ],
          "contour": [
           {
            "colorbar": {
             "outlinewidth": 0,
             "ticks": ""
            },
            "colorscale": [
             [
              0,
              "#0d0887"
             ],
             [
              0.1111111111111111,
              "#46039f"
             ],
             [
              0.2222222222222222,
              "#7201a8"
             ],
             [
              0.3333333333333333,
              "#9c179e"
             ],
             [
              0.4444444444444444,
              "#bd3786"
             ],
             [
              0.5555555555555556,
              "#d8576b"
             ],
             [
              0.6666666666666666,
              "#ed7953"
             ],
             [
              0.7777777777777778,
              "#fb9f3a"
             ],
             [
              0.8888888888888888,
              "#fdca26"
             ],
             [
              1,
              "#f0f921"
             ]
            ],
            "type": "contour"
           }
          ],
          "contourcarpet": [
           {
            "colorbar": {
             "outlinewidth": 0,
             "ticks": ""
            },
            "type": "contourcarpet"
           }
          ],
          "heatmap": [
           {
            "colorbar": {
             "outlinewidth": 0,
             "ticks": ""
            },
            "colorscale": [
             [
              0,
              "#0d0887"
             ],
             [
              0.1111111111111111,
              "#46039f"
             ],
             [
              0.2222222222222222,
              "#7201a8"
             ],
             [
              0.3333333333333333,
              "#9c179e"
             ],
             [
              0.4444444444444444,
              "#bd3786"
             ],
             [
              0.5555555555555556,
              "#d8576b"
             ],
             [
              0.6666666666666666,
              "#ed7953"
             ],
             [
              0.7777777777777778,
              "#fb9f3a"
             ],
             [
              0.8888888888888888,
              "#fdca26"
             ],
             [
              1,
              "#f0f921"
             ]
            ],
            "type": "heatmap"
           }
          ],
          "heatmapgl": [
           {
            "colorbar": {
             "outlinewidth": 0,
             "ticks": ""
            },
            "colorscale": [
             [
              0,
              "#0d0887"
             ],
             [
              0.1111111111111111,
              "#46039f"
             ],
             [
              0.2222222222222222,
              "#7201a8"
             ],
             [
              0.3333333333333333,
              "#9c179e"
             ],
             [
              0.4444444444444444,
              "#bd3786"
             ],
             [
              0.5555555555555556,
              "#d8576b"
             ],
             [
              0.6666666666666666,
              "#ed7953"
             ],
             [
              0.7777777777777778,
              "#fb9f3a"
             ],
             [
              0.8888888888888888,
              "#fdca26"
             ],
             [
              1,
              "#f0f921"
             ]
            ],
            "type": "heatmapgl"
           }
          ],
          "histogram": [
           {
            "marker": {
             "pattern": {
              "fillmode": "overlay",
              "size": 10,
              "solidity": 0.2
             }
            },
            "type": "histogram"
           }
          ],
          "histogram2d": [
           {
            "colorbar": {
             "outlinewidth": 0,
             "ticks": ""
            },
            "colorscale": [
             [
              0,
              "#0d0887"
             ],
             [
              0.1111111111111111,
              "#46039f"
             ],
             [
              0.2222222222222222,
              "#7201a8"
             ],
             [
              0.3333333333333333,
              "#9c179e"
             ],
             [
              0.4444444444444444,
              "#bd3786"
             ],
             [
              0.5555555555555556,
              "#d8576b"
             ],
             [
              0.6666666666666666,
              "#ed7953"
             ],
             [
              0.7777777777777778,
              "#fb9f3a"
             ],
             [
              0.8888888888888888,
              "#fdca26"
             ],
             [
              1,
              "#f0f921"
             ]
            ],
            "type": "histogram2d"
           }
          ],
          "histogram2dcontour": [
           {
            "colorbar": {
             "outlinewidth": 0,
             "ticks": ""
            },
            "colorscale": [
             [
              0,
              "#0d0887"
             ],
             [
              0.1111111111111111,
              "#46039f"
             ],
             [
              0.2222222222222222,
              "#7201a8"
             ],
             [
              0.3333333333333333,
              "#9c179e"
             ],
             [
              0.4444444444444444,
              "#bd3786"
             ],
             [
              0.5555555555555556,
              "#d8576b"
             ],
             [
              0.6666666666666666,
              "#ed7953"
             ],
             [
              0.7777777777777778,
              "#fb9f3a"
             ],
             [
              0.8888888888888888,
              "#fdca26"
             ],
             [
              1,
              "#f0f921"
             ]
            ],
            "type": "histogram2dcontour"
           }
          ],
          "mesh3d": [
           {
            "colorbar": {
             "outlinewidth": 0,
             "ticks": ""
            },
            "type": "mesh3d"
           }
          ],
          "parcoords": [
           {
            "line": {
             "colorbar": {
              "outlinewidth": 0,
              "ticks": ""
             }
            },
            "type": "parcoords"
           }
          ],
          "pie": [
           {
            "automargin": true,
            "type": "pie"
           }
          ],
          "scatter": [
           {
            "fillpattern": {
             "fillmode": "overlay",
             "size": 10,
             "solidity": 0.2
            },
            "type": "scatter"
           }
          ],
          "scatter3d": [
           {
            "line": {
             "colorbar": {
              "outlinewidth": 0,
              "ticks": ""
             }
            },
            "marker": {
             "colorbar": {
              "outlinewidth": 0,
              "ticks": ""
             }
            },
            "type": "scatter3d"
           }
          ],
          "scattercarpet": [
           {
            "marker": {
             "colorbar": {
              "outlinewidth": 0,
              "ticks": ""
             }
            },
            "type": "scattercarpet"
           }
          ],
          "scattergeo": [
           {
            "marker": {
             "colorbar": {
              "outlinewidth": 0,
              "ticks": ""
             }
            },
            "type": "scattergeo"
           }
          ],
          "scattergl": [
           {
            "marker": {
             "colorbar": {
              "outlinewidth": 0,
              "ticks": ""
             }
            },
            "type": "scattergl"
           }
          ],
          "scattermapbox": [
           {
            "marker": {
             "colorbar": {
              "outlinewidth": 0,
              "ticks": ""
             }
            },
            "type": "scattermapbox"
           }
          ],
          "scatterpolar": [
           {
            "marker": {
             "colorbar": {
              "outlinewidth": 0,
              "ticks": ""
             }
            },
            "type": "scatterpolar"
           }
          ],
          "scatterpolargl": [
           {
            "marker": {
             "colorbar": {
              "outlinewidth": 0,
              "ticks": ""
             }
            },
            "type": "scatterpolargl"
           }
          ],
          "scatterternary": [
           {
            "marker": {
             "colorbar": {
              "outlinewidth": 0,
              "ticks": ""
             }
            },
            "type": "scatterternary"
           }
          ],
          "surface": [
           {
            "colorbar": {
             "outlinewidth": 0,
             "ticks": ""
            },
            "colorscale": [
             [
              0,
              "#0d0887"
             ],
             [
              0.1111111111111111,
              "#46039f"
             ],
             [
              0.2222222222222222,
              "#7201a8"
             ],
             [
              0.3333333333333333,
              "#9c179e"
             ],
             [
              0.4444444444444444,
              "#bd3786"
             ],
             [
              0.5555555555555556,
              "#d8576b"
             ],
             [
              0.6666666666666666,
              "#ed7953"
             ],
             [
              0.7777777777777778,
              "#fb9f3a"
             ],
             [
              0.8888888888888888,
              "#fdca26"
             ],
             [
              1,
              "#f0f921"
             ]
            ],
            "type": "surface"
           }
          ],
          "table": [
           {
            "cells": {
             "fill": {
              "color": "#EBF0F8"
             },
             "line": {
              "color": "white"
             }
            },
            "header": {
             "fill": {
              "color": "#C8D4E3"
             },
             "line": {
              "color": "white"
             }
            },
            "type": "table"
           }
          ]
         },
         "layout": {
          "annotationdefaults": {
           "arrowcolor": "#2a3f5f",
           "arrowhead": 0,
           "arrowwidth": 1
          },
          "autotypenumbers": "strict",
          "coloraxis": {
           "colorbar": {
            "outlinewidth": 0,
            "ticks": ""
           }
          },
          "colorscale": {
           "diverging": [
            [
             0,
             "#8e0152"
            ],
            [
             0.1,
             "#c51b7d"
            ],
            [
             0.2,
             "#de77ae"
            ],
            [
             0.3,
             "#f1b6da"
            ],
            [
             0.4,
             "#fde0ef"
            ],
            [
             0.5,
             "#f7f7f7"
            ],
            [
             0.6,
             "#e6f5d0"
            ],
            [
             0.7,
             "#b8e186"
            ],
            [
             0.8,
             "#7fbc41"
            ],
            [
             0.9,
             "#4d9221"
            ],
            [
             1,
             "#276419"
            ]
           ],
           "sequential": [
            [
             0,
             "#0d0887"
            ],
            [
             0.1111111111111111,
             "#46039f"
            ],
            [
             0.2222222222222222,
             "#7201a8"
            ],
            [
             0.3333333333333333,
             "#9c179e"
            ],
            [
             0.4444444444444444,
             "#bd3786"
            ],
            [
             0.5555555555555556,
             "#d8576b"
            ],
            [
             0.6666666666666666,
             "#ed7953"
            ],
            [
             0.7777777777777778,
             "#fb9f3a"
            ],
            [
             0.8888888888888888,
             "#fdca26"
            ],
            [
             1,
             "#f0f921"
            ]
           ],
           "sequentialminus": [
            [
             0,
             "#0d0887"
            ],
            [
             0.1111111111111111,
             "#46039f"
            ],
            [
             0.2222222222222222,
             "#7201a8"
            ],
            [
             0.3333333333333333,
             "#9c179e"
            ],
            [
             0.4444444444444444,
             "#bd3786"
            ],
            [
             0.5555555555555556,
             "#d8576b"
            ],
            [
             0.6666666666666666,
             "#ed7953"
            ],
            [
             0.7777777777777778,
             "#fb9f3a"
            ],
            [
             0.8888888888888888,
             "#fdca26"
            ],
            [
             1,
             "#f0f921"
            ]
           ]
          },
          "colorway": [
           "#636efa",
           "#EF553B",
           "#00cc96",
           "#ab63fa",
           "#FFA15A",
           "#19d3f3",
           "#FF6692",
           "#B6E880",
           "#FF97FF",
           "#FECB52"
          ],
          "font": {
           "color": "#2a3f5f"
          },
          "geo": {
           "bgcolor": "white",
           "lakecolor": "white",
           "landcolor": "white",
           "showlakes": true,
           "showland": true,
           "subunitcolor": "#C8D4E3"
          },
          "hoverlabel": {
           "align": "left"
          },
          "hovermode": "closest",
          "mapbox": {
           "style": "light"
          },
          "paper_bgcolor": "white",
          "plot_bgcolor": "white",
          "polar": {
           "angularaxis": {
            "gridcolor": "#EBF0F8",
            "linecolor": "#EBF0F8",
            "ticks": ""
           },
           "bgcolor": "white",
           "radialaxis": {
            "gridcolor": "#EBF0F8",
            "linecolor": "#EBF0F8",
            "ticks": ""
           }
          },
          "scene": {
           "xaxis": {
            "backgroundcolor": "white",
            "gridcolor": "#DFE8F3",
            "gridwidth": 2,
            "linecolor": "#EBF0F8",
            "showbackground": true,
            "ticks": "",
            "zerolinecolor": "#EBF0F8"
           },
           "yaxis": {
            "backgroundcolor": "white",
            "gridcolor": "#DFE8F3",
            "gridwidth": 2,
            "linecolor": "#EBF0F8",
            "showbackground": true,
            "ticks": "",
            "zerolinecolor": "#EBF0F8"
           },
           "zaxis": {
            "backgroundcolor": "white",
            "gridcolor": "#DFE8F3",
            "gridwidth": 2,
            "linecolor": "#EBF0F8",
            "showbackground": true,
            "ticks": "",
            "zerolinecolor": "#EBF0F8"
           }
          },
          "shapedefaults": {
           "line": {
            "color": "#2a3f5f"
           }
          },
          "ternary": {
           "aaxis": {
            "gridcolor": "#DFE8F3",
            "linecolor": "#A2B1C6",
            "ticks": ""
           },
           "baxis": {
            "gridcolor": "#DFE8F3",
            "linecolor": "#A2B1C6",
            "ticks": ""
           },
           "bgcolor": "white",
           "caxis": {
            "gridcolor": "#DFE8F3",
            "linecolor": "#A2B1C6",
            "ticks": ""
           }
          },
          "title": {
           "x": 0.05
          },
          "xaxis": {
           "automargin": true,
           "gridcolor": "#EBF0F8",
           "linecolor": "#EBF0F8",
           "ticks": "",
           "title": {
            "standoff": 15
           },
           "zerolinecolor": "#EBF0F8",
           "zerolinewidth": 2
          },
          "yaxis": {
           "automargin": true,
           "gridcolor": "#EBF0F8",
           "linecolor": "#EBF0F8",
           "ticks": "",
           "title": {
            "standoff": 15
           },
           "zerolinecolor": "#EBF0F8",
           "zerolinewidth": 2
          }
         }
        },
        "title": {
         "text": "Counts of Positive and Negative Sentiment per Party"
        },
        "xaxis": {
         "anchor": "y",
         "domain": [
          0,
          1
         ],
         "title": {
          "text": "Party"
         }
        },
        "yaxis": {
         "anchor": "x",
         "domain": [
          0,
          1
         ],
         "title": {
          "text": "Count"
         }
        }
       }
      }
     },
     "metadata": {},
     "output_type": "display_data"
    }
   ],
   "source": [
    "# Graph with counts per sentiment\n",
    "\n",
    "# Set plotly rendering and templates defaults for the graphs\n",
    "pio.renderers.default = \"jupyterlab\" # Make sure that the renderer is set to the correct platform that the user is running the notebook in\n",
    "pio.templates.default = \"plotly_white\"\n",
    "\n",
    "\n",
    "fig = px.bar(graph_data, x=\"Party\", y=\"Count\", color=\"Label\", \n",
    "    title=\"Counts of Positive and Negative Sentiment per Party\",)\n",
    "fig.update_layout(font={\"size\":16})\n",
    "fig.show()"
   ]
  },
  {
   "cell_type": "code",
   "execution_count": 9,
   "metadata": {},
   "outputs": [
    {
     "name": "stderr",
     "output_type": "stream",
     "text": [
      "c:\\Users\\yente\\miniconda3\\envs\\SIMM71\\lib\\site-packages\\plotly\\io\\_renderers.py:395: DeprecationWarning:\n",
      "\n",
      "distutils Version classes are deprecated. Use packaging.version instead.\n",
      "\n",
      "c:\\Users\\yente\\miniconda3\\envs\\SIMM71\\lib\\site-packages\\plotly\\io\\_renderers.py:395: DeprecationWarning:\n",
      "\n",
      "distutils Version classes are deprecated. Use packaging.version instead.\n",
      "\n"
     ]
    },
    {
     "data": {
      "application/vnd.plotly.v1+json": {
       "config": {
        "plotlyServerURL": "https://plot.ly"
       },
       "data": [
        {
         "alignmentgroup": "True",
         "hovertemplate": "variable=Positive Sentiment<br>Party=%{x}<br>value=%{y}<extra></extra>",
         "legendgroup": "Positive Sentiment",
         "marker": {
          "color": "#636efa",
          "pattern": {
           "shape": ""
          }
         },
         "name": "Positive Sentiment",
         "offsetgroup": "Positive Sentiment",
         "orientation": "v",
         "showlegend": true,
         "textposition": "auto",
         "type": "bar",
         "x": [
          "SNP",
          "Lab",
          "LD",
          "Con",
          "Alba",
          "DUP",
          "No Party"
         ],
         "xaxis": "x",
         "y": [
          0.5367483296213809,
          0.4315245478036176,
          0.46464646464646464,
          0.558252427184466,
          0.38271604938271603,
          0.6,
          0.6123853211009175
         ],
         "yaxis": "y"
        },
        {
         "alignmentgroup": "True",
         "hovertemplate": "variable=Negative Sentiment<br>Party=%{x}<br>value=%{y}<extra></extra>",
         "legendgroup": "Negative Sentiment",
         "marker": {
          "color": "#EF553B",
          "pattern": {
           "shape": ""
          }
         },
         "name": "Negative Sentiment",
         "offsetgroup": "Negative Sentiment",
         "orientation": "v",
         "showlegend": true,
         "textposition": "auto",
         "type": "bar",
         "x": [
          "SNP",
          "Lab",
          "LD",
          "Con",
          "Alba",
          "DUP",
          "No Party"
         ],
         "xaxis": "x",
         "y": [
          0.46325167037861914,
          0.5684754521963824,
          0.5353535353535354,
          0.441747572815534,
          0.617283950617284,
          0.4,
          0.3876146788990825
         ],
         "yaxis": "y"
        }
       ],
       "layout": {
        "barmode": "relative",
        "font": {
         "size": 16
        },
        "legend": {
         "title": {
          "text": ""
         },
         "tracegroupgap": 0
        },
        "template": {
         "data": {
          "bar": [
           {
            "error_x": {
             "color": "#2a3f5f"
            },
            "error_y": {
             "color": "#2a3f5f"
            },
            "marker": {
             "line": {
              "color": "white",
              "width": 0.5
             },
             "pattern": {
              "fillmode": "overlay",
              "size": 10,
              "solidity": 0.2
             }
            },
            "type": "bar"
           }
          ],
          "barpolar": [
           {
            "marker": {
             "line": {
              "color": "white",
              "width": 0.5
             },
             "pattern": {
              "fillmode": "overlay",
              "size": 10,
              "solidity": 0.2
             }
            },
            "type": "barpolar"
           }
          ],
          "carpet": [
           {
            "aaxis": {
             "endlinecolor": "#2a3f5f",
             "gridcolor": "#C8D4E3",
             "linecolor": "#C8D4E3",
             "minorgridcolor": "#C8D4E3",
             "startlinecolor": "#2a3f5f"
            },
            "baxis": {
             "endlinecolor": "#2a3f5f",
             "gridcolor": "#C8D4E3",
             "linecolor": "#C8D4E3",
             "minorgridcolor": "#C8D4E3",
             "startlinecolor": "#2a3f5f"
            },
            "type": "carpet"
           }
          ],
          "choropleth": [
           {
            "colorbar": {
             "outlinewidth": 0,
             "ticks": ""
            },
            "type": "choropleth"
           }
          ],
          "contour": [
           {
            "colorbar": {
             "outlinewidth": 0,
             "ticks": ""
            },
            "colorscale": [
             [
              0,
              "#0d0887"
             ],
             [
              0.1111111111111111,
              "#46039f"
             ],
             [
              0.2222222222222222,
              "#7201a8"
             ],
             [
              0.3333333333333333,
              "#9c179e"
             ],
             [
              0.4444444444444444,
              "#bd3786"
             ],
             [
              0.5555555555555556,
              "#d8576b"
             ],
             [
              0.6666666666666666,
              "#ed7953"
             ],
             [
              0.7777777777777778,
              "#fb9f3a"
             ],
             [
              0.8888888888888888,
              "#fdca26"
             ],
             [
              1,
              "#f0f921"
             ]
            ],
            "type": "contour"
           }
          ],
          "contourcarpet": [
           {
            "colorbar": {
             "outlinewidth": 0,
             "ticks": ""
            },
            "type": "contourcarpet"
           }
          ],
          "heatmap": [
           {
            "colorbar": {
             "outlinewidth": 0,
             "ticks": ""
            },
            "colorscale": [
             [
              0,
              "#0d0887"
             ],
             [
              0.1111111111111111,
              "#46039f"
             ],
             [
              0.2222222222222222,
              "#7201a8"
             ],
             [
              0.3333333333333333,
              "#9c179e"
             ],
             [
              0.4444444444444444,
              "#bd3786"
             ],
             [
              0.5555555555555556,
              "#d8576b"
             ],
             [
              0.6666666666666666,
              "#ed7953"
             ],
             [
              0.7777777777777778,
              "#fb9f3a"
             ],
             [
              0.8888888888888888,
              "#fdca26"
             ],
             [
              1,
              "#f0f921"
             ]
            ],
            "type": "heatmap"
           }
          ],
          "heatmapgl": [
           {
            "colorbar": {
             "outlinewidth": 0,
             "ticks": ""
            },
            "colorscale": [
             [
              0,
              "#0d0887"
             ],
             [
              0.1111111111111111,
              "#46039f"
             ],
             [
              0.2222222222222222,
              "#7201a8"
             ],
             [
              0.3333333333333333,
              "#9c179e"
             ],
             [
              0.4444444444444444,
              "#bd3786"
             ],
             [
              0.5555555555555556,
              "#d8576b"
             ],
             [
              0.6666666666666666,
              "#ed7953"
             ],
             [
              0.7777777777777778,
              "#fb9f3a"
             ],
             [
              0.8888888888888888,
              "#fdca26"
             ],
             [
              1,
              "#f0f921"
             ]
            ],
            "type": "heatmapgl"
           }
          ],
          "histogram": [
           {
            "marker": {
             "pattern": {
              "fillmode": "overlay",
              "size": 10,
              "solidity": 0.2
             }
            },
            "type": "histogram"
           }
          ],
          "histogram2d": [
           {
            "colorbar": {
             "outlinewidth": 0,
             "ticks": ""
            },
            "colorscale": [
             [
              0,
              "#0d0887"
             ],
             [
              0.1111111111111111,
              "#46039f"
             ],
             [
              0.2222222222222222,
              "#7201a8"
             ],
             [
              0.3333333333333333,
              "#9c179e"
             ],
             [
              0.4444444444444444,
              "#bd3786"
             ],
             [
              0.5555555555555556,
              "#d8576b"
             ],
             [
              0.6666666666666666,
              "#ed7953"
             ],
             [
              0.7777777777777778,
              "#fb9f3a"
             ],
             [
              0.8888888888888888,
              "#fdca26"
             ],
             [
              1,
              "#f0f921"
             ]
            ],
            "type": "histogram2d"
           }
          ],
          "histogram2dcontour": [
           {
            "colorbar": {
             "outlinewidth": 0,
             "ticks": ""
            },
            "colorscale": [
             [
              0,
              "#0d0887"
             ],
             [
              0.1111111111111111,
              "#46039f"
             ],
             [
              0.2222222222222222,
              "#7201a8"
             ],
             [
              0.3333333333333333,
              "#9c179e"
             ],
             [
              0.4444444444444444,
              "#bd3786"
             ],
             [
              0.5555555555555556,
              "#d8576b"
             ],
             [
              0.6666666666666666,
              "#ed7953"
             ],
             [
              0.7777777777777778,
              "#fb9f3a"
             ],
             [
              0.8888888888888888,
              "#fdca26"
             ],
             [
              1,
              "#f0f921"
             ]
            ],
            "type": "histogram2dcontour"
           }
          ],
          "mesh3d": [
           {
            "colorbar": {
             "outlinewidth": 0,
             "ticks": ""
            },
            "type": "mesh3d"
           }
          ],
          "parcoords": [
           {
            "line": {
             "colorbar": {
              "outlinewidth": 0,
              "ticks": ""
             }
            },
            "type": "parcoords"
           }
          ],
          "pie": [
           {
            "automargin": true,
            "type": "pie"
           }
          ],
          "scatter": [
           {
            "fillpattern": {
             "fillmode": "overlay",
             "size": 10,
             "solidity": 0.2
            },
            "type": "scatter"
           }
          ],
          "scatter3d": [
           {
            "line": {
             "colorbar": {
              "outlinewidth": 0,
              "ticks": ""
             }
            },
            "marker": {
             "colorbar": {
              "outlinewidth": 0,
              "ticks": ""
             }
            },
            "type": "scatter3d"
           }
          ],
          "scattercarpet": [
           {
            "marker": {
             "colorbar": {
              "outlinewidth": 0,
              "ticks": ""
             }
            },
            "type": "scattercarpet"
           }
          ],
          "scattergeo": [
           {
            "marker": {
             "colorbar": {
              "outlinewidth": 0,
              "ticks": ""
             }
            },
            "type": "scattergeo"
           }
          ],
          "scattergl": [
           {
            "marker": {
             "colorbar": {
              "outlinewidth": 0,
              "ticks": ""
             }
            },
            "type": "scattergl"
           }
          ],
          "scattermapbox": [
           {
            "marker": {
             "colorbar": {
              "outlinewidth": 0,
              "ticks": ""
             }
            },
            "type": "scattermapbox"
           }
          ],
          "scatterpolar": [
           {
            "marker": {
             "colorbar": {
              "outlinewidth": 0,
              "ticks": ""
             }
            },
            "type": "scatterpolar"
           }
          ],
          "scatterpolargl": [
           {
            "marker": {
             "colorbar": {
              "outlinewidth": 0,
              "ticks": ""
             }
            },
            "type": "scatterpolargl"
           }
          ],
          "scatterternary": [
           {
            "marker": {
             "colorbar": {
              "outlinewidth": 0,
              "ticks": ""
             }
            },
            "type": "scatterternary"
           }
          ],
          "surface": [
           {
            "colorbar": {
             "outlinewidth": 0,
             "ticks": ""
            },
            "colorscale": [
             [
              0,
              "#0d0887"
             ],
             [
              0.1111111111111111,
              "#46039f"
             ],
             [
              0.2222222222222222,
              "#7201a8"
             ],
             [
              0.3333333333333333,
              "#9c179e"
             ],
             [
              0.4444444444444444,
              "#bd3786"
             ],
             [
              0.5555555555555556,
              "#d8576b"
             ],
             [
              0.6666666666666666,
              "#ed7953"
             ],
             [
              0.7777777777777778,
              "#fb9f3a"
             ],
             [
              0.8888888888888888,
              "#fdca26"
             ],
             [
              1,
              "#f0f921"
             ]
            ],
            "type": "surface"
           }
          ],
          "table": [
           {
            "cells": {
             "fill": {
              "color": "#EBF0F8"
             },
             "line": {
              "color": "white"
             }
            },
            "header": {
             "fill": {
              "color": "#C8D4E3"
             },
             "line": {
              "color": "white"
             }
            },
            "type": "table"
           }
          ]
         },
         "layout": {
          "annotationdefaults": {
           "arrowcolor": "#2a3f5f",
           "arrowhead": 0,
           "arrowwidth": 1
          },
          "autotypenumbers": "strict",
          "coloraxis": {
           "colorbar": {
            "outlinewidth": 0,
            "ticks": ""
           }
          },
          "colorscale": {
           "diverging": [
            [
             0,
             "#8e0152"
            ],
            [
             0.1,
             "#c51b7d"
            ],
            [
             0.2,
             "#de77ae"
            ],
            [
             0.3,
             "#f1b6da"
            ],
            [
             0.4,
             "#fde0ef"
            ],
            [
             0.5,
             "#f7f7f7"
            ],
            [
             0.6,
             "#e6f5d0"
            ],
            [
             0.7,
             "#b8e186"
            ],
            [
             0.8,
             "#7fbc41"
            ],
            [
             0.9,
             "#4d9221"
            ],
            [
             1,
             "#276419"
            ]
           ],
           "sequential": [
            [
             0,
             "#0d0887"
            ],
            [
             0.1111111111111111,
             "#46039f"
            ],
            [
             0.2222222222222222,
             "#7201a8"
            ],
            [
             0.3333333333333333,
             "#9c179e"
            ],
            [
             0.4444444444444444,
             "#bd3786"
            ],
            [
             0.5555555555555556,
             "#d8576b"
            ],
            [
             0.6666666666666666,
             "#ed7953"
            ],
            [
             0.7777777777777778,
             "#fb9f3a"
            ],
            [
             0.8888888888888888,
             "#fdca26"
            ],
            [
             1,
             "#f0f921"
            ]
           ],
           "sequentialminus": [
            [
             0,
             "#0d0887"
            ],
            [
             0.1111111111111111,
             "#46039f"
            ],
            [
             0.2222222222222222,
             "#7201a8"
            ],
            [
             0.3333333333333333,
             "#9c179e"
            ],
            [
             0.4444444444444444,
             "#bd3786"
            ],
            [
             0.5555555555555556,
             "#d8576b"
            ],
            [
             0.6666666666666666,
             "#ed7953"
            ],
            [
             0.7777777777777778,
             "#fb9f3a"
            ],
            [
             0.8888888888888888,
             "#fdca26"
            ],
            [
             1,
             "#f0f921"
            ]
           ]
          },
          "colorway": [
           "#636efa",
           "#EF553B",
           "#00cc96",
           "#ab63fa",
           "#FFA15A",
           "#19d3f3",
           "#FF6692",
           "#B6E880",
           "#FF97FF",
           "#FECB52"
          ],
          "font": {
           "color": "#2a3f5f"
          },
          "geo": {
           "bgcolor": "white",
           "lakecolor": "white",
           "landcolor": "white",
           "showlakes": true,
           "showland": true,
           "subunitcolor": "#C8D4E3"
          },
          "hoverlabel": {
           "align": "left"
          },
          "hovermode": "closest",
          "mapbox": {
           "style": "light"
          },
          "paper_bgcolor": "white",
          "plot_bgcolor": "white",
          "polar": {
           "angularaxis": {
            "gridcolor": "#EBF0F8",
            "linecolor": "#EBF0F8",
            "ticks": ""
           },
           "bgcolor": "white",
           "radialaxis": {
            "gridcolor": "#EBF0F8",
            "linecolor": "#EBF0F8",
            "ticks": ""
           }
          },
          "scene": {
           "xaxis": {
            "backgroundcolor": "white",
            "gridcolor": "#DFE8F3",
            "gridwidth": 2,
            "linecolor": "#EBF0F8",
            "showbackground": true,
            "ticks": "",
            "zerolinecolor": "#EBF0F8"
           },
           "yaxis": {
            "backgroundcolor": "white",
            "gridcolor": "#DFE8F3",
            "gridwidth": 2,
            "linecolor": "#EBF0F8",
            "showbackground": true,
            "ticks": "",
            "zerolinecolor": "#EBF0F8"
           },
           "zaxis": {
            "backgroundcolor": "white",
            "gridcolor": "#DFE8F3",
            "gridwidth": 2,
            "linecolor": "#EBF0F8",
            "showbackground": true,
            "ticks": "",
            "zerolinecolor": "#EBF0F8"
           }
          },
          "shapedefaults": {
           "line": {
            "color": "#2a3f5f"
           }
          },
          "ternary": {
           "aaxis": {
            "gridcolor": "#DFE8F3",
            "linecolor": "#A2B1C6",
            "ticks": ""
           },
           "baxis": {
            "gridcolor": "#DFE8F3",
            "linecolor": "#A2B1C6",
            "ticks": ""
           },
           "bgcolor": "white",
           "caxis": {
            "gridcolor": "#DFE8F3",
            "linecolor": "#A2B1C6",
            "ticks": ""
           }
          },
          "title": {
           "x": 0.05
          },
          "xaxis": {
           "automargin": true,
           "gridcolor": "#EBF0F8",
           "linecolor": "#EBF0F8",
           "ticks": "",
           "title": {
            "standoff": 15
           },
           "zerolinecolor": "#EBF0F8",
           "zerolinewidth": 2
          },
          "yaxis": {
           "automargin": true,
           "gridcolor": "#EBF0F8",
           "linecolor": "#EBF0F8",
           "ticks": "",
           "title": {
            "standoff": 15
           },
           "zerolinecolor": "#EBF0F8",
           "zerolinewidth": 2
          }
         }
        },
        "title": {
         "text": "Proportion of Positive and Negative Sentiment per Party"
        },
        "xaxis": {
         "anchor": "y",
         "domain": [
          0,
          1
         ],
         "title": {
          "text": "Party"
         }
        },
        "yaxis": {
         "anchor": "x",
         "domain": [
          0,
          1
         ],
         "title": {
          "text": "Proportion"
         }
        }
       }
      }
     },
     "metadata": {},
     "output_type": "display_data"
    }
   ],
   "source": [
    "# Graph with proportions\n",
    "\n",
    "## Preparing the proportions for the graph\n",
    "graph_data_prop = pd.DataFrame(party_positive_portion.items())\n",
    "graph_data_prop.columns = [\"Party\", \"Positive Sentiment\"]\n",
    "graph_data_prop[\"Negative Sentiment\"] = 1 - graph_data_prop[\"Positive Sentiment\"]\n",
    "graph_data_prop.head()\n",
    "\n",
    "## making\n",
    "fig2 = px.bar(graph_data_prop, x=\"Party\", y=[\"Positive Sentiment\", \"Negative Sentiment\"], \n",
    "    title=\"Proportion of Positive and Negative Sentiment per Party\")\n",
    "fig2.update_yaxes(title=\"Proportion\")\n",
    "fig2.update_layout(legend_title=\"\", font={\"size\":16})\n",
    "fig2.show()"
   ]
  },
  {
   "attachments": {},
   "cell_type": "markdown",
   "metadata": {},
   "source": [
    "## Results\n",
    "<pre style=\"font-size: 18px; font-family: Times;  text-align: left;\n",
    "    white-space: pre-line;\">\n",
    "The results of the sentiment analysis show that, on average, Members of Parliament involved in the debate about Scottish Independence are slightly more negative in their speech sentiment. When looking at the sentiment per party, it becomes clear that there is a difference depending on which party the speaker is aligned with.\n",
    "\n",
    "Because the sentiment is assigned per speech and not towards specific entities, it is hard to interpret if negative sentiment implies that the speech was negative towards Scottish independence or towards for example the UK. It could be that the Alba Party MPs, which has the highest proportion of negative sentiment in their speeches, just used more negative framing to promote independence rather than being anti-independence, which would not make sense for this pro-independence party. \n",
    "\n",
    "Therefore, the results of the sentiment analysis can mostly be used to get a general idea of what the debate surrounding Scottish independence is like in the House of Commons and if certain parties use more negative sentiments in their speeches surrounding this matter, be it against the UK or against independence, which would both count as negative sentiment.\n",
    "\n",
    "Interestingly, the SNP has a higher percentage of positive sentiment (54%) in their speeches than the Alba party (38%), both of which are pro-independence. Because of their public support for Scottish independence, it can be assumed that they are speaking pro-independence but based on the sentiment we can hypothesise that the Alba party uses more negative framing, potentially anti-union and anti-UK language, rather than pro-Scotland language.\n",
    "\n",
    "There does not appear to be a difference in sentiment related to whether a party is left or right. It is interesting that the Conservative party appears to express more positive sentiment (56%) than the left-leaning Labour party (43%) but again, this does not indicate whether these parties were speaking negatively or positively about independence but rather concerns the general sentiment of their speeches. The SNP is neither right nor left but very much positioned in the center and thus Scottish independence is not put forward as a left-rigth ideological matter. \n",
    "\n",
    "</pre>\n",
    "\n",
    "### Discussion\n",
    "<pre style=\"font-size: 18px; font-family: Times;  text-align: left;\n",
    "    white-space: pre-line;\">\n",
    "One important thing to keep in mind is that the sentiment analysis was performed on a debate transcript, which is thus spoken word. In general, sentiment analysis is more common to do on written texts rather than speeches written down as text. Also, the SNP very much dominated this debate, which means that the inferences based on the speeches from MPs belonging to other parties are not as generalisable.\n",
    "</pre>"
   ]
  },
  {
   "attachments": {},
   "cell_type": "markdown",
   "metadata": {},
   "source": [
    "## References\n",
    "<pre style=\"font-size: 18px; font-family: Times;  text-align: left;\n",
    "    white-space: pre-line;\">\n",
    "Abercrombie, G. & Batista-Navarro, R. (2018) ‘Identifying Opinion-Topics and Polarity of Parliamentary Debate Motions’, in <i>Proceedings of the 9th Workshop on Computational Approaches to Subjectivity, Sentiment and Social Media Analysis</i>, pp. 280–285. doi: 10.18653/v1/P17.\n",
    "\n",
    "Abercrombie, G. & Batista-Navarro, R. (2018) ‘“Aye” or “No”? Speech-level Sentiment Analysis of Hansard UK Parliamentary Debate Transcripts’, in <i>Proceedings of the Eleventh International Conference on Language Resources and Evaluation</i>.\n",
    "\n",
    "Abercrombie, G., Batista-Navarro, R. Nanni, F. & Ponzetto, S. P. (2019) ‘Policy Preference Detection in Parliamentary Debate Motions’, in <i>Proceedings of the 23rd Conference on Computational Natural Language Learning</i>, pp. 249–259. Available at: <a>https://www.publicwhip.org.uk (Accessed: 6 November 2022)</a>.\n",
    "\n",
    "Abercrombie, G. & Batista-Navarro, R. (2020) ‘ParlVote: A Corpus for Sentiment Analysis of Political Debates’, in <i>Proceedings of the 12th Conference on Language Resources and Evaluation</i>, pp. 11–16. doi: 10.17632/czjfwgs9tm.1.\n",
    "\n",
    "Abercrombie, G. & Batista-Navarro, R. (2020) ‘Sentiment and position-taking analysis of parliamentary debates: a systematic literature review’, <i>Journal of Computational Social Science</i>, 3, pp. 245–270. doi: 10.1007/s42001-019-00060-w.\n",
    "\n",
    "Beasley, R., Kaarbo, J. and Solomon-Strauss, H., (2016). 'To be or not to be a state? Role contestation in the debate over Scottish independence'. In <i>Domestic role contestation, foreign policy, and international relations</i> (pp. 156-172). Routledge.\n",
    "\n",
    "Broun, D. (2013). Scottish independence and the idea of Britain. Edinburgh: Edinburgh University Press.\n",
    "\n",
    "Devlin, J. et al. (2019) ‘BERT: Pre-training of deep bidirectional transformers for language understanding’, <i>NAACL HLT 2019 - 2019 Conference of the North American Chapter of the Association for Computational Linguistics: Human Language Technologies - Proceedings of the Conference</i>, 1, pp. 4171–4186.\n",
    "\n",
    "Egger, R. (2022). ‘Topic Modelling.’ In: Egger, R. (eds) <i>Applied Data Science in Tourism. Tourism on the Verge</i>. Springer, Cham. <a>https://doi.org/10.1007/978-3-030-88389-8_18</a>\n",
    "\n",
    "Huggingface (2022) 🤗 Transformers. Available at: <a>https://huggingface.co/docs/transformers/index</a> (Accessed: 15 December 2022).\n",
    "\n",
    "Kedia, A. & Rasu, M. (2020) <i>Hands-On Python Natural Explore tools and techniques to analyze and process text with</i>. Packt Publishing, Ltd.\n",
    "\n",
    "Neuendorf, K. A. (2017) <i>The Content Analysis Guidebook</i>. Thousand Oaks, California: SAGE Publications. doi: 10.5260/chara.19.4.38.\n",
    "\n",
    "Sharma, H.  (2021) <i>Topic Model Visualization using pyLDAvis</i>, Towards Data Science. Published 05 June 2021. Available at: <a>https://towardsdatascience.com/topic-model-visualization-using-pyldavis-fecd7c18fbf6</a> (Accessed: 15 December 2022).\n",
    "</pre>"
   ]
  }
 ],
 "metadata": {
  "kernelspec": {
   "display_name": "SIMM71",
   "language": "python",
   "name": "python3"
  },
  "language_info": {
   "codemirror_mode": {
    "name": "ipython",
    "version": 3
   },
   "file_extension": ".py",
   "mimetype": "text/x-python",
   "name": "python",
   "nbconvert_exporter": "python",
   "pygments_lexer": "ipython3",
   "version": "3.10.8"
  },
  "orig_nbformat": 4,
  "vscode": {
   "interpreter": {
    "hash": "febb59a329fc7914076f8ace649a86bf13f54f815c54e19b21d0c8fda7985748"
   }
  }
 },
 "nbformat": 4,
 "nbformat_minor": 2
}
